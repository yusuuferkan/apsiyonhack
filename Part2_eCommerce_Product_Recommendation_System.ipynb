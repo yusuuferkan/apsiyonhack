{
  "cells": [
    {
      "cell_type": "markdown",
      "metadata": {
        "id": "view-in-github",
        "colab_type": "text"
      },
      "source": [
        "<a href=\"https://colab.research.google.com/github/yuan-code/eCommerce_Product_Recommendation_System/blob/main/Part2_eCommerce_Product_Recommendation_System.ipynb\" target=\"_parent\"><img src=\"https://colab.research.google.com/assets/colab-badge.svg\" alt=\"Open In Colab\"/></a>"
      ]
    },
    {
      "cell_type": "markdown",
      "metadata": {
        "id": "OwHK7mHQT2aB"
      },
      "source": [
        "# eCommerce Product Recommendation Part 2"
      ]
    },
    {
      "cell_type": "markdown",
      "source": [
        "# Contents\n",
        "* Part 0: Load Data\n",
        "* Part 1: Feature Analysis & Tranformation\n",
        "  * Part 1.1: Label Ratio\n",
        "  * Part 1.2: Null value check\n",
        "  * Part 1.3: Categorical Feature Transformation\n",
        "* Part 2: Split Dataset\n",
        "* Part 3: Model Selection with Cross Validation\n",
        "  * Part 3.1: Model Selection with All Features\n",
        "  * Part 3.2: Feature Selection\n",
        "  * Part 3.3: Train Neural Network Model\n",
        "  * Part 3.4: Model Selection with Selected Top 15 Features including Neural Network Model\n",
        "* Part 4: Hyper-parameter tuning for GradientBoostingClassifier\n",
        "* Part 5: Train the final GradientBoostingClassifier\n",
        "* Part 6: Model Evaluation\n",
        "  * Part 6.1: Predict product reorder on Test Data\n",
        "  * Part 6.2: Analyze classification result"
      ],
      "metadata": {
        "id": "6jovvqm1ipyK"
      }
    },
    {
      "cell_type": "markdown",
      "metadata": {
        "id": "CoknezhTpCGn"
      },
      "source": [
        "# Part 0: Load Feature Data"
      ]
    },
    {
      "cell_type": "code",
      "execution_count": null,
      "metadata": {
        "id": "axPvI--WNCjK"
      },
      "outputs": [],
      "source": [
        "import warnings\n",
        "warnings.filterwarnings(\"ignore\")"
      ]
    },
    {
      "cell_type": "code",
      "execution_count": null,
      "metadata": {
        "id": "6K-Pkvfzn6H5"
      },
      "outputs": [],
      "source": [
        "import pandas as pd\n",
        "import numpy as np\n",
        "import seaborn as sns\n",
        "import matplotlib.pyplot as plt\n",
        "\n",
        "\n",
        "from imblearn.pipeline import Pipeline\n",
        "from imblearn.under_sampling import RandomUnderSampler\n",
        "from imblearn.over_sampling import RandomOverSampler\n",
        "from sklearn.impute import SimpleImputer\n",
        "from sklearn.model_selection import cross_val_score\n",
        "from sklearn.preprocessing import MinMaxScaler\n",
        "from sklearn.neighbors import KNeighborsClassifier\n",
        "from sklearn.ensemble import RandomForestClassifier, AdaBoostClassifier, GradientBoostingClassifier\n",
        "from sklearn.linear_model import LogisticRegression\n",
        "from sklearn.tree import DecisionTreeClassifier\n",
        "from sklearn.model_selection import cross_val_score\n",
        "from sklearn.model_selection import GridSearchCV\n",
        "\n",
        "from sklearn.metrics import ConfusionMatrixDisplay\n",
        "from sklearn.metrics import accuracy_score\n",
        "from sklearn.metrics import precision_score\n",
        "from sklearn.metrics import recall_score\n",
        "from sklearn.metrics import f1_score\n",
        "from sklearn.metrics import roc_auc_score\n",
        "\n",
        "import keras\n",
        "from keras.utils.vis_utils import plot_model\n",
        "from keras.wrappers.scikit_learn import KerasClassifier"
      ]
    },
    {
      "cell_type": "code",
      "execution_count": null,
      "metadata": {
        "colab": {
          "base_uri": "https://localhost:8080/"
        },
        "id": "Lqj5RnJwaK5s",
        "outputId": "d8f6d898-0725-4a4b-eba5-eca770be33af"
      },
      "outputs": [
        {
          "output_type": "stream",
          "name": "stdout",
          "text": [
            "Mounted at /content/drive\n"
          ]
        }
      ],
      "source": [
        "from google.colab import drive\n",
        "drive.mount('/content/drive')"
      ]
    },
    {
      "cell_type": "code",
      "execution_count": null,
      "metadata": {
        "colab": {
          "base_uri": "https://localhost:8080/"
        },
        "id": "W4zvSjNbaYxA",
        "outputId": "2dc29e9f-6d74-478d-d180-d6845a9bec73"
      },
      "outputs": [
        {
          "output_type": "stream",
          "name": "stdout",
          "text": [
            "aisles.csv       model_all_data.csv  order_products_prior.csv  orders.csv\n",
            "departments.csv  model.png           order_products_train.csv  products.csv\n"
          ]
        }
      ],
      "source": [
        "ls"
      ]
    },
    {
      "cell_type": "code",
      "execution_count": null,
      "metadata": {
        "id": "kxT1rECQaan9",
        "colab": {
          "base_uri": "https://localhost:8080/",
          "height": 299
        },
        "outputId": "1cdf5b2b-9796-44d5-d081-7bccd63aab8f"
      },
      "outputs": [
        {
          "output_type": "execute_result",
          "data": {
            "text/plain": [
              "   user_id  product_id  order_number  order_dow  order_hour_of_day  \\\n",
              "0   152610       30597            22          6                  8   \n",
              "1   152610       15221            22          6                  8   \n",
              "2   152610       43772            22          6                  8   \n",
              "3   152610       37886            22          6                  8   \n",
              "4   152610       37215            22          6                  8   \n",
              "\n",
              "   days_since_prior_order    unique_key  label  user_product__total_orders  \\\n",
              "0                    10.0  152610_30597      0                           5   \n",
              "1                    10.0  152610_15221      0                           8   \n",
              "2                    10.0  152610_43772      0                           2   \n",
              "3                    10.0  152610_37886      0                           2   \n",
              "4                    10.0  152610_37215      0                           1   \n",
              "\n",
              "   user_product__add_to_cart_order_mean  ...  product__most_hod  \\\n",
              "0                                  2.00  ...                  9   \n",
              "1                                  8.25  ...                 12   \n",
              "2                                  3.00  ...                 12   \n",
              "3                                  3.50  ...                 14   \n",
              "4                                  5.00  ...                 13   \n",
              "\n",
              "   product__days_since_prior_order_mean  product__aisle_id  \\\n",
              "0                             12.592593                 53   \n",
              "1                             13.653846                 84   \n",
              "2                             12.008565                 83   \n",
              "3                             11.489362                 53   \n",
              "4                             11.490066                 98   \n",
              "\n",
              "   product__department_id  user__order_count  user__product_count  \\\n",
              "0                      16                 26                  408   \n",
              "1                      16                 26                  408   \n",
              "2                       4                 26                  408   \n",
              "3                      16                 26                  408   \n",
              "4                       7                 26                  408   \n",
              "\n",
              "   user__days_since_prior_order_mean  user__reordered_mean  user__most_dow  \\\n",
              "0                          10.953804                 0.375               6   \n",
              "1                          10.953804                 0.375               6   \n",
              "2                          10.953804                 0.375               6   \n",
              "3                          10.953804                 0.375               6   \n",
              "4                          10.953804                 0.375               6   \n",
              "\n",
              "   user__most_hod  \n",
              "0              12  \n",
              "1              12  \n",
              "2              12  \n",
              "3              12  \n",
              "4              12  \n",
              "\n",
              "[5 rows x 28 columns]"
            ],
            "text/html": [
              "\n",
              "\n",
              "  <div id=\"df-360c8603-577c-4c62-9649-430136dbfa41\">\n",
              "    <div class=\"colab-df-container\">\n",
              "      <div>\n",
              "<style scoped>\n",
              "    .dataframe tbody tr th:only-of-type {\n",
              "        vertical-align: middle;\n",
              "    }\n",
              "\n",
              "    .dataframe tbody tr th {\n",
              "        vertical-align: top;\n",
              "    }\n",
              "\n",
              "    .dataframe thead th {\n",
              "        text-align: right;\n",
              "    }\n",
              "</style>\n",
              "<table border=\"1\" class=\"dataframe\">\n",
              "  <thead>\n",
              "    <tr style=\"text-align: right;\">\n",
              "      <th></th>\n",
              "      <th>user_id</th>\n",
              "      <th>product_id</th>\n",
              "      <th>order_number</th>\n",
              "      <th>order_dow</th>\n",
              "      <th>order_hour_of_day</th>\n",
              "      <th>days_since_prior_order</th>\n",
              "      <th>unique_key</th>\n",
              "      <th>label</th>\n",
              "      <th>user_product__total_orders</th>\n",
              "      <th>user_product__add_to_cart_order_mean</th>\n",
              "      <th>...</th>\n",
              "      <th>product__most_hod</th>\n",
              "      <th>product__days_since_prior_order_mean</th>\n",
              "      <th>product__aisle_id</th>\n",
              "      <th>product__department_id</th>\n",
              "      <th>user__order_count</th>\n",
              "      <th>user__product_count</th>\n",
              "      <th>user__days_since_prior_order_mean</th>\n",
              "      <th>user__reordered_mean</th>\n",
              "      <th>user__most_dow</th>\n",
              "      <th>user__most_hod</th>\n",
              "    </tr>\n",
              "  </thead>\n",
              "  <tbody>\n",
              "    <tr>\n",
              "      <th>0</th>\n",
              "      <td>152610</td>\n",
              "      <td>30597</td>\n",
              "      <td>22</td>\n",
              "      <td>6</td>\n",
              "      <td>8</td>\n",
              "      <td>10.0</td>\n",
              "      <td>152610_30597</td>\n",
              "      <td>0</td>\n",
              "      <td>5</td>\n",
              "      <td>2.00</td>\n",
              "      <td>...</td>\n",
              "      <td>9</td>\n",
              "      <td>12.592593</td>\n",
              "      <td>53</td>\n",
              "      <td>16</td>\n",
              "      <td>26</td>\n",
              "      <td>408</td>\n",
              "      <td>10.953804</td>\n",
              "      <td>0.375</td>\n",
              "      <td>6</td>\n",
              "      <td>12</td>\n",
              "    </tr>\n",
              "    <tr>\n",
              "      <th>1</th>\n",
              "      <td>152610</td>\n",
              "      <td>15221</td>\n",
              "      <td>22</td>\n",
              "      <td>6</td>\n",
              "      <td>8</td>\n",
              "      <td>10.0</td>\n",
              "      <td>152610_15221</td>\n",
              "      <td>0</td>\n",
              "      <td>8</td>\n",
              "      <td>8.25</td>\n",
              "      <td>...</td>\n",
              "      <td>12</td>\n",
              "      <td>13.653846</td>\n",
              "      <td>84</td>\n",
              "      <td>16</td>\n",
              "      <td>26</td>\n",
              "      <td>408</td>\n",
              "      <td>10.953804</td>\n",
              "      <td>0.375</td>\n",
              "      <td>6</td>\n",
              "      <td>12</td>\n",
              "    </tr>\n",
              "    <tr>\n",
              "      <th>2</th>\n",
              "      <td>152610</td>\n",
              "      <td>43772</td>\n",
              "      <td>22</td>\n",
              "      <td>6</td>\n",
              "      <td>8</td>\n",
              "      <td>10.0</td>\n",
              "      <td>152610_43772</td>\n",
              "      <td>0</td>\n",
              "      <td>2</td>\n",
              "      <td>3.00</td>\n",
              "      <td>...</td>\n",
              "      <td>12</td>\n",
              "      <td>12.008565</td>\n",
              "      <td>83</td>\n",
              "      <td>4</td>\n",
              "      <td>26</td>\n",
              "      <td>408</td>\n",
              "      <td>10.953804</td>\n",
              "      <td>0.375</td>\n",
              "      <td>6</td>\n",
              "      <td>12</td>\n",
              "    </tr>\n",
              "    <tr>\n",
              "      <th>3</th>\n",
              "      <td>152610</td>\n",
              "      <td>37886</td>\n",
              "      <td>22</td>\n",
              "      <td>6</td>\n",
              "      <td>8</td>\n",
              "      <td>10.0</td>\n",
              "      <td>152610_37886</td>\n",
              "      <td>0</td>\n",
              "      <td>2</td>\n",
              "      <td>3.50</td>\n",
              "      <td>...</td>\n",
              "      <td>14</td>\n",
              "      <td>11.489362</td>\n",
              "      <td>53</td>\n",
              "      <td>16</td>\n",
              "      <td>26</td>\n",
              "      <td>408</td>\n",
              "      <td>10.953804</td>\n",
              "      <td>0.375</td>\n",
              "      <td>6</td>\n",
              "      <td>12</td>\n",
              "    </tr>\n",
              "    <tr>\n",
              "      <th>4</th>\n",
              "      <td>152610</td>\n",
              "      <td>37215</td>\n",
              "      <td>22</td>\n",
              "      <td>6</td>\n",
              "      <td>8</td>\n",
              "      <td>10.0</td>\n",
              "      <td>152610_37215</td>\n",
              "      <td>0</td>\n",
              "      <td>1</td>\n",
              "      <td>5.00</td>\n",
              "      <td>...</td>\n",
              "      <td>13</td>\n",
              "      <td>11.490066</td>\n",
              "      <td>98</td>\n",
              "      <td>7</td>\n",
              "      <td>26</td>\n",
              "      <td>408</td>\n",
              "      <td>10.953804</td>\n",
              "      <td>0.375</td>\n",
              "      <td>6</td>\n",
              "      <td>12</td>\n",
              "    </tr>\n",
              "  </tbody>\n",
              "</table>\n",
              "<p>5 rows × 28 columns</p>\n",
              "</div>\n",
              "      <button class=\"colab-df-convert\" onclick=\"convertToInteractive('df-360c8603-577c-4c62-9649-430136dbfa41')\"\n",
              "              title=\"Convert this dataframe to an interactive table.\"\n",
              "              style=\"display:none;\">\n",
              "\n",
              "  <svg xmlns=\"http://www.w3.org/2000/svg\" height=\"24px\"viewBox=\"0 0 24 24\"\n",
              "       width=\"24px\">\n",
              "    <path d=\"M0 0h24v24H0V0z\" fill=\"none\"/>\n",
              "    <path d=\"M18.56 5.44l.94 2.06.94-2.06 2.06-.94-2.06-.94-.94-2.06-.94 2.06-2.06.94zm-11 1L8.5 8.5l.94-2.06 2.06-.94-2.06-.94L8.5 2.5l-.94 2.06-2.06.94zm10 10l.94 2.06.94-2.06 2.06-.94-2.06-.94-.94-2.06-.94 2.06-2.06.94z\"/><path d=\"M17.41 7.96l-1.37-1.37c-.4-.4-.92-.59-1.43-.59-.52 0-1.04.2-1.43.59L10.3 9.45l-7.72 7.72c-.78.78-.78 2.05 0 2.83L4 21.41c.39.39.9.59 1.41.59.51 0 1.02-.2 1.41-.59l7.78-7.78 2.81-2.81c.8-.78.8-2.07 0-2.86zM5.41 20L4 18.59l7.72-7.72 1.47 1.35L5.41 20z\"/>\n",
              "  </svg>\n",
              "      </button>\n",
              "\n",
              "\n",
              "\n",
              "    <div id=\"df-6b5dd8e6-7169-4363-b795-ba8c3b5d68bd\">\n",
              "      <button class=\"colab-df-quickchart\" onclick=\"quickchart('df-6b5dd8e6-7169-4363-b795-ba8c3b5d68bd')\"\n",
              "              title=\"Suggest charts.\"\n",
              "              style=\"display:none;\">\n",
              "\n",
              "<svg xmlns=\"http://www.w3.org/2000/svg\" height=\"24px\"viewBox=\"0 0 24 24\"\n",
              "     width=\"24px\">\n",
              "    <g>\n",
              "        <path d=\"M19 3H5c-1.1 0-2 .9-2 2v14c0 1.1.9 2 2 2h14c1.1 0 2-.9 2-2V5c0-1.1-.9-2-2-2zM9 17H7v-7h2v7zm4 0h-2V7h2v10zm4 0h-2v-4h2v4z\"/>\n",
              "    </g>\n",
              "</svg>\n",
              "      </button>\n",
              "    </div>\n",
              "\n",
              "<style>\n",
              "  .colab-df-quickchart {\n",
              "    background-color: #E8F0FE;\n",
              "    border: none;\n",
              "    border-radius: 50%;\n",
              "    cursor: pointer;\n",
              "    display: none;\n",
              "    fill: #1967D2;\n",
              "    height: 32px;\n",
              "    padding: 0 0 0 0;\n",
              "    width: 32px;\n",
              "  }\n",
              "\n",
              "  .colab-df-quickchart:hover {\n",
              "    background-color: #E2EBFA;\n",
              "    box-shadow: 0px 1px 2px rgba(60, 64, 67, 0.3), 0px 1px 3px 1px rgba(60, 64, 67, 0.15);\n",
              "    fill: #174EA6;\n",
              "  }\n",
              "\n",
              "  [theme=dark] .colab-df-quickchart {\n",
              "    background-color: #3B4455;\n",
              "    fill: #D2E3FC;\n",
              "  }\n",
              "\n",
              "  [theme=dark] .colab-df-quickchart:hover {\n",
              "    background-color: #434B5C;\n",
              "    box-shadow: 0px 1px 3px 1px rgba(0, 0, 0, 0.15);\n",
              "    filter: drop-shadow(0px 1px 2px rgba(0, 0, 0, 0.3));\n",
              "    fill: #FFFFFF;\n",
              "  }\n",
              "</style>\n",
              "\n",
              "    <script>\n",
              "      async function quickchart(key) {\n",
              "        const containerElement = document.querySelector('#' + key);\n",
              "        const charts = await google.colab.kernel.invokeFunction(\n",
              "            'suggestCharts', [key], {});\n",
              "      }\n",
              "    </script>\n",
              "\n",
              "      <script>\n",
              "\n",
              "function displayQuickchartButton(domScope) {\n",
              "  let quickchartButtonEl =\n",
              "    domScope.querySelector('#df-6b5dd8e6-7169-4363-b795-ba8c3b5d68bd button.colab-df-quickchart');\n",
              "  quickchartButtonEl.style.display =\n",
              "    google.colab.kernel.accessAllowed ? 'block' : 'none';\n",
              "}\n",
              "\n",
              "        displayQuickchartButton(document);\n",
              "      </script>\n",
              "      <style>\n",
              "    .colab-df-container {\n",
              "      display:flex;\n",
              "      flex-wrap:wrap;\n",
              "      gap: 12px;\n",
              "    }\n",
              "\n",
              "    .colab-df-convert {\n",
              "      background-color: #E8F0FE;\n",
              "      border: none;\n",
              "      border-radius: 50%;\n",
              "      cursor: pointer;\n",
              "      display: none;\n",
              "      fill: #1967D2;\n",
              "      height: 32px;\n",
              "      padding: 0 0 0 0;\n",
              "      width: 32px;\n",
              "    }\n",
              "\n",
              "    .colab-df-convert:hover {\n",
              "      background-color: #E2EBFA;\n",
              "      box-shadow: 0px 1px 2px rgba(60, 64, 67, 0.3), 0px 1px 3px 1px rgba(60, 64, 67, 0.15);\n",
              "      fill: #174EA6;\n",
              "    }\n",
              "\n",
              "    [theme=dark] .colab-df-convert {\n",
              "      background-color: #3B4455;\n",
              "      fill: #D2E3FC;\n",
              "    }\n",
              "\n",
              "    [theme=dark] .colab-df-convert:hover {\n",
              "      background-color: #434B5C;\n",
              "      box-shadow: 0px 1px 3px 1px rgba(0, 0, 0, 0.15);\n",
              "      filter: drop-shadow(0px 1px 2px rgba(0, 0, 0, 0.3));\n",
              "      fill: #FFFFFF;\n",
              "    }\n",
              "  </style>\n",
              "\n",
              "      <script>\n",
              "        const buttonEl =\n",
              "          document.querySelector('#df-360c8603-577c-4c62-9649-430136dbfa41 button.colab-df-convert');\n",
              "        buttonEl.style.display =\n",
              "          google.colab.kernel.accessAllowed ? 'block' : 'none';\n",
              "\n",
              "        async function convertToInteractive(key) {\n",
              "          const element = document.querySelector('#df-360c8603-577c-4c62-9649-430136dbfa41');\n",
              "          const dataTable =\n",
              "            await google.colab.kernel.invokeFunction('convertToInteractive',\n",
              "                                                     [key], {});\n",
              "          if (!dataTable) return;\n",
              "\n",
              "          const docLinkHtml = 'Like what you see? Visit the ' +\n",
              "            '<a target=\"_blank\" href=https://colab.research.google.com/notebooks/data_table.ipynb>data table notebook</a>'\n",
              "            + ' to learn more about interactive tables.';\n",
              "          element.innerHTML = '';\n",
              "          dataTable['output_type'] = 'display_data';\n",
              "          await google.colab.output.renderOutput(dataTable, element);\n",
              "          const docLink = document.createElement('div');\n",
              "          docLink.innerHTML = docLinkHtml;\n",
              "          element.appendChild(docLink);\n",
              "        }\n",
              "      </script>\n",
              "    </div>\n",
              "  </div>\n"
            ]
          },
          "metadata": {},
          "execution_count": 6
        }
      ],
      "source": [
        "model_all_data = pd.read_csv('model_all_data.csv')\n",
        "model_all_data.head()"
      ]
    },
    {
      "cell_type": "code",
      "execution_count": null,
      "metadata": {
        "id": "Luaz0Ak8oWxT"
      },
      "outputs": [],
      "source": [
        "unique_key = ['user_id', 'product_id']\n",
        "\n",
        "raw_features = ['order_number',\n",
        "                     'order_dow',\n",
        "                     'order_hour_of_day',\n",
        "                     'days_since_prior_order',\n",
        "                     'user_product__total_orders',\n",
        "                     'user_product__add_to_cart_order_mean',\n",
        "                     'user_product__reordered_mean',\n",
        "                     'user_product__most_dow',\n",
        "                     'user_product__most_hod',\n",
        "                     'product__total_orders',\n",
        "                     'product__add_to_cart_order_mean',\n",
        "                     'product__total_users',\n",
        "                     'product__reordered_mean',\n",
        "                     'product__most_dow',\n",
        "                     'product__most_hod',\n",
        "                     'product__days_since_prior_order_mean',\n",
        "                     'user__order_count',\n",
        "                     'user__product_count',\n",
        "                     'user__days_since_prior_order_mean',\n",
        "                     'user__reordered_mean',\n",
        "                     'user__most_dow',\n",
        "                     'user__most_hod',\n",
        "                     'product__aisle_id',\n",
        "                     'product__department_id',\n",
        "                     ]\n",
        "\n",
        "label = ['label']"
      ]
    },
    {
      "cell_type": "code",
      "execution_count": null,
      "metadata": {
        "id": "7vxDeP_Jos-s",
        "colab": {
          "base_uri": "https://localhost:8080/",
          "height": 299
        },
        "outputId": "20ed550b-6d82-4801-ad95-221561b729bd"
      },
      "outputs": [
        {
          "output_type": "execute_result",
          "data": {
            "text/plain": [
              "   user_id  product_id  order_number  order_dow  order_hour_of_day  \\\n",
              "0   152610       30597            22          6                  8   \n",
              "1   152610       15221            22          6                  8   \n",
              "2   152610       43772            22          6                  8   \n",
              "3   152610       37886            22          6                  8   \n",
              "4   152610       37215            22          6                  8   \n",
              "\n",
              "   days_since_prior_order  user_product__total_orders  \\\n",
              "0                    10.0                           5   \n",
              "1                    10.0                           8   \n",
              "2                    10.0                           2   \n",
              "3                    10.0                           2   \n",
              "4                    10.0                           1   \n",
              "\n",
              "   user_product__add_to_cart_order_mean  user_product__reordered_mean  \\\n",
              "0                                  2.00                         0.800   \n",
              "1                                  8.25                         0.875   \n",
              "2                                  3.00                         0.500   \n",
              "3                                  3.50                         0.500   \n",
              "4                                  5.00                         0.000   \n",
              "\n",
              "   user_product__most_dow  ...  product__days_since_prior_order_mean  \\\n",
              "0                       6  ...                             12.592593   \n",
              "1                       4  ...                             13.653846   \n",
              "2                       5  ...                             12.008565   \n",
              "3                       6  ...                             11.489362   \n",
              "4                       6  ...                             11.490066   \n",
              "\n",
              "   user__order_count  user__product_count  user__days_since_prior_order_mean  \\\n",
              "0                 26                  408                          10.953804   \n",
              "1                 26                  408                          10.953804   \n",
              "2                 26                  408                          10.953804   \n",
              "3                 26                  408                          10.953804   \n",
              "4                 26                  408                          10.953804   \n",
              "\n",
              "   user__reordered_mean  user__most_dow  user__most_hod  product__aisle_id  \\\n",
              "0                 0.375               6              12                 53   \n",
              "1                 0.375               6              12                 84   \n",
              "2                 0.375               6              12                 83   \n",
              "3                 0.375               6              12                 53   \n",
              "4                 0.375               6              12                 98   \n",
              "\n",
              "   product__department_id  label  \n",
              "0                      16      0  \n",
              "1                      16      0  \n",
              "2                       4      0  \n",
              "3                      16      0  \n",
              "4                       7      0  \n",
              "\n",
              "[5 rows x 27 columns]"
            ],
            "text/html": [
              "\n",
              "\n",
              "  <div id=\"df-50c0adce-e34d-46cb-ba99-2de5ba71d477\">\n",
              "    <div class=\"colab-df-container\">\n",
              "      <div>\n",
              "<style scoped>\n",
              "    .dataframe tbody tr th:only-of-type {\n",
              "        vertical-align: middle;\n",
              "    }\n",
              "\n",
              "    .dataframe tbody tr th {\n",
              "        vertical-align: top;\n",
              "    }\n",
              "\n",
              "    .dataframe thead th {\n",
              "        text-align: right;\n",
              "    }\n",
              "</style>\n",
              "<table border=\"1\" class=\"dataframe\">\n",
              "  <thead>\n",
              "    <tr style=\"text-align: right;\">\n",
              "      <th></th>\n",
              "      <th>user_id</th>\n",
              "      <th>product_id</th>\n",
              "      <th>order_number</th>\n",
              "      <th>order_dow</th>\n",
              "      <th>order_hour_of_day</th>\n",
              "      <th>days_since_prior_order</th>\n",
              "      <th>user_product__total_orders</th>\n",
              "      <th>user_product__add_to_cart_order_mean</th>\n",
              "      <th>user_product__reordered_mean</th>\n",
              "      <th>user_product__most_dow</th>\n",
              "      <th>...</th>\n",
              "      <th>product__days_since_prior_order_mean</th>\n",
              "      <th>user__order_count</th>\n",
              "      <th>user__product_count</th>\n",
              "      <th>user__days_since_prior_order_mean</th>\n",
              "      <th>user__reordered_mean</th>\n",
              "      <th>user__most_dow</th>\n",
              "      <th>user__most_hod</th>\n",
              "      <th>product__aisle_id</th>\n",
              "      <th>product__department_id</th>\n",
              "      <th>label</th>\n",
              "    </tr>\n",
              "  </thead>\n",
              "  <tbody>\n",
              "    <tr>\n",
              "      <th>0</th>\n",
              "      <td>152610</td>\n",
              "      <td>30597</td>\n",
              "      <td>22</td>\n",
              "      <td>6</td>\n",
              "      <td>8</td>\n",
              "      <td>10.0</td>\n",
              "      <td>5</td>\n",
              "      <td>2.00</td>\n",
              "      <td>0.800</td>\n",
              "      <td>6</td>\n",
              "      <td>...</td>\n",
              "      <td>12.592593</td>\n",
              "      <td>26</td>\n",
              "      <td>408</td>\n",
              "      <td>10.953804</td>\n",
              "      <td>0.375</td>\n",
              "      <td>6</td>\n",
              "      <td>12</td>\n",
              "      <td>53</td>\n",
              "      <td>16</td>\n",
              "      <td>0</td>\n",
              "    </tr>\n",
              "    <tr>\n",
              "      <th>1</th>\n",
              "      <td>152610</td>\n",
              "      <td>15221</td>\n",
              "      <td>22</td>\n",
              "      <td>6</td>\n",
              "      <td>8</td>\n",
              "      <td>10.0</td>\n",
              "      <td>8</td>\n",
              "      <td>8.25</td>\n",
              "      <td>0.875</td>\n",
              "      <td>4</td>\n",
              "      <td>...</td>\n",
              "      <td>13.653846</td>\n",
              "      <td>26</td>\n",
              "      <td>408</td>\n",
              "      <td>10.953804</td>\n",
              "      <td>0.375</td>\n",
              "      <td>6</td>\n",
              "      <td>12</td>\n",
              "      <td>84</td>\n",
              "      <td>16</td>\n",
              "      <td>0</td>\n",
              "    </tr>\n",
              "    <tr>\n",
              "      <th>2</th>\n",
              "      <td>152610</td>\n",
              "      <td>43772</td>\n",
              "      <td>22</td>\n",
              "      <td>6</td>\n",
              "      <td>8</td>\n",
              "      <td>10.0</td>\n",
              "      <td>2</td>\n",
              "      <td>3.00</td>\n",
              "      <td>0.500</td>\n",
              "      <td>5</td>\n",
              "      <td>...</td>\n",
              "      <td>12.008565</td>\n",
              "      <td>26</td>\n",
              "      <td>408</td>\n",
              "      <td>10.953804</td>\n",
              "      <td>0.375</td>\n",
              "      <td>6</td>\n",
              "      <td>12</td>\n",
              "      <td>83</td>\n",
              "      <td>4</td>\n",
              "      <td>0</td>\n",
              "    </tr>\n",
              "    <tr>\n",
              "      <th>3</th>\n",
              "      <td>152610</td>\n",
              "      <td>37886</td>\n",
              "      <td>22</td>\n",
              "      <td>6</td>\n",
              "      <td>8</td>\n",
              "      <td>10.0</td>\n",
              "      <td>2</td>\n",
              "      <td>3.50</td>\n",
              "      <td>0.500</td>\n",
              "      <td>6</td>\n",
              "      <td>...</td>\n",
              "      <td>11.489362</td>\n",
              "      <td>26</td>\n",
              "      <td>408</td>\n",
              "      <td>10.953804</td>\n",
              "      <td>0.375</td>\n",
              "      <td>6</td>\n",
              "      <td>12</td>\n",
              "      <td>53</td>\n",
              "      <td>16</td>\n",
              "      <td>0</td>\n",
              "    </tr>\n",
              "    <tr>\n",
              "      <th>4</th>\n",
              "      <td>152610</td>\n",
              "      <td>37215</td>\n",
              "      <td>22</td>\n",
              "      <td>6</td>\n",
              "      <td>8</td>\n",
              "      <td>10.0</td>\n",
              "      <td>1</td>\n",
              "      <td>5.00</td>\n",
              "      <td>0.000</td>\n",
              "      <td>6</td>\n",
              "      <td>...</td>\n",
              "      <td>11.490066</td>\n",
              "      <td>26</td>\n",
              "      <td>408</td>\n",
              "      <td>10.953804</td>\n",
              "      <td>0.375</td>\n",
              "      <td>6</td>\n",
              "      <td>12</td>\n",
              "      <td>98</td>\n",
              "      <td>7</td>\n",
              "      <td>0</td>\n",
              "    </tr>\n",
              "  </tbody>\n",
              "</table>\n",
              "<p>5 rows × 27 columns</p>\n",
              "</div>\n",
              "      <button class=\"colab-df-convert\" onclick=\"convertToInteractive('df-50c0adce-e34d-46cb-ba99-2de5ba71d477')\"\n",
              "              title=\"Convert this dataframe to an interactive table.\"\n",
              "              style=\"display:none;\">\n",
              "\n",
              "  <svg xmlns=\"http://www.w3.org/2000/svg\" height=\"24px\"viewBox=\"0 0 24 24\"\n",
              "       width=\"24px\">\n",
              "    <path d=\"M0 0h24v24H0V0z\" fill=\"none\"/>\n",
              "    <path d=\"M18.56 5.44l.94 2.06.94-2.06 2.06-.94-2.06-.94-.94-2.06-.94 2.06-2.06.94zm-11 1L8.5 8.5l.94-2.06 2.06-.94-2.06-.94L8.5 2.5l-.94 2.06-2.06.94zm10 10l.94 2.06.94-2.06 2.06-.94-2.06-.94-.94-2.06-.94 2.06-2.06.94z\"/><path d=\"M17.41 7.96l-1.37-1.37c-.4-.4-.92-.59-1.43-.59-.52 0-1.04.2-1.43.59L10.3 9.45l-7.72 7.72c-.78.78-.78 2.05 0 2.83L4 21.41c.39.39.9.59 1.41.59.51 0 1.02-.2 1.41-.59l7.78-7.78 2.81-2.81c.8-.78.8-2.07 0-2.86zM5.41 20L4 18.59l7.72-7.72 1.47 1.35L5.41 20z\"/>\n",
              "  </svg>\n",
              "      </button>\n",
              "\n",
              "\n",
              "\n",
              "    <div id=\"df-2e4c7188-5e4a-4ff2-b8a9-32476e442db5\">\n",
              "      <button class=\"colab-df-quickchart\" onclick=\"quickchart('df-2e4c7188-5e4a-4ff2-b8a9-32476e442db5')\"\n",
              "              title=\"Suggest charts.\"\n",
              "              style=\"display:none;\">\n",
              "\n",
              "<svg xmlns=\"http://www.w3.org/2000/svg\" height=\"24px\"viewBox=\"0 0 24 24\"\n",
              "     width=\"24px\">\n",
              "    <g>\n",
              "        <path d=\"M19 3H5c-1.1 0-2 .9-2 2v14c0 1.1.9 2 2 2h14c1.1 0 2-.9 2-2V5c0-1.1-.9-2-2-2zM9 17H7v-7h2v7zm4 0h-2V7h2v10zm4 0h-2v-4h2v4z\"/>\n",
              "    </g>\n",
              "</svg>\n",
              "      </button>\n",
              "    </div>\n",
              "\n",
              "<style>\n",
              "  .colab-df-quickchart {\n",
              "    background-color: #E8F0FE;\n",
              "    border: none;\n",
              "    border-radius: 50%;\n",
              "    cursor: pointer;\n",
              "    display: none;\n",
              "    fill: #1967D2;\n",
              "    height: 32px;\n",
              "    padding: 0 0 0 0;\n",
              "    width: 32px;\n",
              "  }\n",
              "\n",
              "  .colab-df-quickchart:hover {\n",
              "    background-color: #E2EBFA;\n",
              "    box-shadow: 0px 1px 2px rgba(60, 64, 67, 0.3), 0px 1px 3px 1px rgba(60, 64, 67, 0.15);\n",
              "    fill: #174EA6;\n",
              "  }\n",
              "\n",
              "  [theme=dark] .colab-df-quickchart {\n",
              "    background-color: #3B4455;\n",
              "    fill: #D2E3FC;\n",
              "  }\n",
              "\n",
              "  [theme=dark] .colab-df-quickchart:hover {\n",
              "    background-color: #434B5C;\n",
              "    box-shadow: 0px 1px 3px 1px rgba(0, 0, 0, 0.15);\n",
              "    filter: drop-shadow(0px 1px 2px rgba(0, 0, 0, 0.3));\n",
              "    fill: #FFFFFF;\n",
              "  }\n",
              "</style>\n",
              "\n",
              "    <script>\n",
              "      async function quickchart(key) {\n",
              "        const containerElement = document.querySelector('#' + key);\n",
              "        const charts = await google.colab.kernel.invokeFunction(\n",
              "            'suggestCharts', [key], {});\n",
              "      }\n",
              "    </script>\n",
              "\n",
              "      <script>\n",
              "\n",
              "function displayQuickchartButton(domScope) {\n",
              "  let quickchartButtonEl =\n",
              "    domScope.querySelector('#df-2e4c7188-5e4a-4ff2-b8a9-32476e442db5 button.colab-df-quickchart');\n",
              "  quickchartButtonEl.style.display =\n",
              "    google.colab.kernel.accessAllowed ? 'block' : 'none';\n",
              "}\n",
              "\n",
              "        displayQuickchartButton(document);\n",
              "      </script>\n",
              "      <style>\n",
              "    .colab-df-container {\n",
              "      display:flex;\n",
              "      flex-wrap:wrap;\n",
              "      gap: 12px;\n",
              "    }\n",
              "\n",
              "    .colab-df-convert {\n",
              "      background-color: #E8F0FE;\n",
              "      border: none;\n",
              "      border-radius: 50%;\n",
              "      cursor: pointer;\n",
              "      display: none;\n",
              "      fill: #1967D2;\n",
              "      height: 32px;\n",
              "      padding: 0 0 0 0;\n",
              "      width: 32px;\n",
              "    }\n",
              "\n",
              "    .colab-df-convert:hover {\n",
              "      background-color: #E2EBFA;\n",
              "      box-shadow: 0px 1px 2px rgba(60, 64, 67, 0.3), 0px 1px 3px 1px rgba(60, 64, 67, 0.15);\n",
              "      fill: #174EA6;\n",
              "    }\n",
              "\n",
              "    [theme=dark] .colab-df-convert {\n",
              "      background-color: #3B4455;\n",
              "      fill: #D2E3FC;\n",
              "    }\n",
              "\n",
              "    [theme=dark] .colab-df-convert:hover {\n",
              "      background-color: #434B5C;\n",
              "      box-shadow: 0px 1px 3px 1px rgba(0, 0, 0, 0.15);\n",
              "      filter: drop-shadow(0px 1px 2px rgba(0, 0, 0, 0.3));\n",
              "      fill: #FFFFFF;\n",
              "    }\n",
              "  </style>\n",
              "\n",
              "      <script>\n",
              "        const buttonEl =\n",
              "          document.querySelector('#df-50c0adce-e34d-46cb-ba99-2de5ba71d477 button.colab-df-convert');\n",
              "        buttonEl.style.display =\n",
              "          google.colab.kernel.accessAllowed ? 'block' : 'none';\n",
              "\n",
              "        async function convertToInteractive(key) {\n",
              "          const element = document.querySelector('#df-50c0adce-e34d-46cb-ba99-2de5ba71d477');\n",
              "          const dataTable =\n",
              "            await google.colab.kernel.invokeFunction('convertToInteractive',\n",
              "                                                     [key], {});\n",
              "          if (!dataTable) return;\n",
              "\n",
              "          const docLinkHtml = 'Like what you see? Visit the ' +\n",
              "            '<a target=\"_blank\" href=https://colab.research.google.com/notebooks/data_table.ipynb>data table notebook</a>'\n",
              "            + ' to learn more about interactive tables.';\n",
              "          element.innerHTML = '';\n",
              "          dataTable['output_type'] = 'display_data';\n",
              "          await google.colab.output.renderOutput(dataTable, element);\n",
              "          const docLink = document.createElement('div');\n",
              "          docLink.innerHTML = docLinkHtml;\n",
              "          element.appendChild(docLink);\n",
              "        }\n",
              "      </script>\n",
              "    </div>\n",
              "  </div>\n"
            ]
          },
          "metadata": {},
          "execution_count": 8
        }
      ],
      "source": [
        "model_all_data = model_all_data[unique_key + raw_features + label]\n",
        "model_all_data.head()"
      ]
    },
    {
      "cell_type": "markdown",
      "metadata": {
        "id": "6TJxEfPopfI6"
      },
      "source": [
        "# Part 1: Feature Analysis & Tranformation"
      ]
    },
    {
      "cell_type": "markdown",
      "metadata": {
        "id": "ObTVgGe3pm2c"
      },
      "source": [
        "### Part 1.1: Label Ratio"
      ]
    },
    {
      "cell_type": "code",
      "execution_count": null,
      "metadata": {
        "colab": {
          "base_uri": "https://localhost:8080/"
        },
        "id": "XVj-GV6QpWiF",
        "outputId": "259b5082-d478-42ec-9148-46f56ed995fb"
      },
      "outputs": [
        {
          "output_type": "stream",
          "name": "stdout",
          "text": [
            "Negative label (0) count:  297467\n",
            "Positive label (1) count:  32339\n",
            "Positive label (1) rate is 9.81%\n"
          ]
        }
      ],
      "source": [
        "label_count = model_all_data.label.value_counts()\n",
        "print(\"Negative label (0) count: \", label_count[0])\n",
        "print(\"Positive label (1) count: \", label_count[1])\n",
        "print(\"Positive label (1) rate is {:.2f}%\".format(\n",
        "      label_count[1] / (label_count[0] + label_count[1]) * 100) )"
      ]
    },
    {
      "cell_type": "code",
      "execution_count": null,
      "metadata": {
        "colab": {
          "base_uri": "https://localhost:8080/",
          "height": 452
        },
        "id": "xs2FKtjToxya",
        "outputId": "62308e0c-0ed1-40a7-b9d3-17073a53c8ba"
      },
      "outputs": [
        {
          "output_type": "display_data",
          "data": {
            "text/plain": [
              "<Figure size 640x480 with 1 Axes>"
            ],
            "image/png": "[encoded data removed]"
          },
          "metadata": {}
        }
      ],
      "source": [
        "ax = label_count.sort_values().plot(kind='barh', title='Labels Count')\n",
        "ax.grid(axis=\"x\")"
      ]
    },
    {
      "cell_type": "markdown",
      "metadata": {
        "id": "s-G6r5JxrDf1"
      },
      "source": [
        "### Part 1.2: Null value check"
      ]
    },
    {
      "cell_type": "code",
      "execution_count": null,
      "metadata": {
        "colab": {
          "base_uri": "https://localhost:8080/"
        },
        "id": "YDOcN-_wrDQG",
        "outputId": "9d6c7ef3-c84b-4d78-c881-67a5779ec52e"
      },
      "outputs": [
        {
          "output_type": "execute_result",
          "data": {
            "text/plain": [
              "user_id                                     0\n",
              "product_id                                  0\n",
              "order_number                                0\n",
              "order_dow                                   0\n",
              "order_hour_of_day                           0\n",
              "days_since_prior_order                  29995\n",
              "user_product__total_orders                  0\n",
              "user_product__add_to_cart_order_mean        0\n",
              "user_product__reordered_mean                0\n",
              "user_product__most_dow                      0\n",
              "user_product__most_hod                      0\n",
              "product__total_orders                       0\n",
              "product__add_to_cart_order_mean             0\n",
              "product__total_users                        0\n",
              "product__reordered_mean                     0\n",
              "product__most_dow                           0\n",
              "product__most_hod                           0\n",
              "product__days_since_prior_order_mean      726\n",
              "user__order_count                           0\n",
              "user__product_count                         0\n",
              "user__days_since_prior_order_mean           0\n",
              "user__reordered_mean                        0\n",
              "user__most_dow                              0\n",
              "user__most_hod                              0\n",
              "product__aisle_id                           0\n",
              "product__department_id                      0\n",
              "label                                       0\n",
              "dtype: int64"
            ]
          },
          "metadata": {},
          "execution_count": 11
        }
      ],
      "source": [
        "model_all_data.isna().sum()"
      ]
    },
    {
      "cell_type": "markdown",
      "metadata": {
        "id": "isKWh5gVrVO9"
      },
      "source": [
        "### Part 1.3: Categorical Feature Transformation\n"
      ]
    },
    {
      "cell_type": "code",
      "execution_count": null,
      "metadata": {
        "id": "CgwwX0Q-qHRz"
      },
      "outputs": [],
      "source": [
        "# One-hot encoding for the `product__department_id` feature.\n",
        "model_all_data = pd.concat(\n",
        "    [model_all_data.drop('product__department_id',axis=1),\n",
        "     pd.get_dummies(model_all_data[\"product__department_id\"],\n",
        "                    prefix='product__department_id_')],\n",
        "                     axis=1)"
      ]
    },
    {
      "cell_type": "markdown",
      "metadata": {
        "id": "wColDjFnsbLi"
      },
      "source": [
        "# Part 2: Split Dataset (Train, Validation and Test)"
      ]
    },
    {
      "cell_type": "markdown",
      "metadata": {
        "id": "dswd8BaZssuj"
      },
      "source": [
        "In order to do model training, model selection and evaluation, we split `model_all_data` to three datasets: train, validation, test."
      ]
    },
    {
      "cell_type": "code",
      "execution_count": null,
      "metadata": {
        "id": "65tqr0gAttGL"
      },
      "outputs": [],
      "source": [
        "# We randomly select 20% users as test data.\n",
        "# The remaining data will be used as train & validation data.\n",
        "test_user_ids = model_all_data.user_id.drop_duplicates().sample(frac=0.2)\n",
        "train_validation_data = model_all_data[~model_all_data.user_id.isin(test_user_ids)]\n",
        "test_data = model_all_data[model_all_data.user_id.isin(test_user_ids)]"
      ]
    },
    {
      "cell_type": "code",
      "execution_count": null,
      "metadata": {
        "colab": {
          "base_uri": "https://localhost:8080/"
        },
        "id": "4Ph83khusTut",
        "outputId": "2f6c6554-8f94-4d7c-ca5d-87766c0a6dd7"
      },
      "outputs": [
        {
          "output_type": "stream",
          "name": "stdout",
          "text": [
            "Szie of original dataset before splitting:  (329806, 47)\n",
            "Size of train & validation dataset:  (263436, 47)\n",
            "Size of test dataset:  (66370, 47)\n"
          ]
        }
      ],
      "source": [
        "print('Szie of original dataset before splitting: ', model_all_data.shape)\n",
        "print('Size of train & validation dataset: ', train_validation_data.shape)\n",
        "print('Size of test dataset: ', test_data.shape)"
      ]
    },
    {
      "cell_type": "markdown",
      "metadata": {
        "id": "751m91O-D2J4"
      },
      "source": [
        "# Part 3: Model Selection with Cross Validation"
      ]
    },
    {
      "cell_type": "markdown",
      "metadata": {
        "id": "wF04v6wkn6Cy"
      },
      "source": [
        "### Part 3.1: Model Selection with All Features"
      ]
    },
    {
      "cell_type": "code",
      "execution_count": null,
      "metadata": {
        "id": "3SuiquaZKhgb"
      },
      "outputs": [],
      "source": [
        "train_validation_data_x = train_validation_data.drop(['user_id', 'product_id', 'label'],axis=1)\n",
        "train_validation_data_y = train_validation_data['label']"
      ]
    },
    {
      "cell_type": "code",
      "execution_count": null,
      "metadata": {
        "id": "ggI9_UAB_VX6"
      },
      "outputs": [],
      "source": [
        "classifiers = [\n",
        "    LogisticRegression(),\n",
        "    DecisionTreeClassifier(),\n",
        "    RandomForestClassifier(),\n",
        "    AdaBoostClassifier(),\n",
        "    GradientBoostingClassifier(),\n",
        "    ]\n",
        "\n",
        "  # |--------------train-val(80)---------------| ---test(20)---|\n",
        "  #  1      2       3         4         5\n",
        "  #  1      2       3         4         5\n",
        "  #  1      2       3         4         5\n",
        "  #  1      2       3         4         5\n",
        "  #  1      2       3         4         5\n"
      ]
    },
    {
      "cell_type": "code",
      "execution_count": null,
      "metadata": {
        "id": "95HAZDDrMbEj"
      },
      "outputs": [],
      "source": [
        "def build_ml_pipeline(classifier):\n",
        "  steps = list()\n",
        "  steps.append(('fillnan', SimpleImputer(missing_values=np.nan, strategy='constant', fill_value=0.0)))\n",
        "  steps.append(('downSample', RandomUnderSampler()))\n",
        "  steps.append(('scaler', MinMaxScaler()))\n",
        "  steps.append(('model', classifier))\n",
        "  pipeline = Pipeline(steps=steps)\n",
        "  return pipeline"
      ]
    },
    {
      "cell_type": "code",
      "execution_count": null,
      "metadata": {
        "colab": {
          "base_uri": "https://localhost:8080/"
        },
        "id": "3on93yGbMtkr",
        "outputId": "ae65b03c-e3ce-40b8-b9a3-347e0e4524f2"
      },
      "outputs": [
        {
          "output_type": "stream",
          "name": "stdout",
          "text": [
            "CPU times: user 4.09 s, sys: 1.77 s, total: 5.86 s\n",
            "Wall time: 4.16 s\n",
            "LogisticRegression : F1 value is 34.415 (2.542)\n",
            "==============\n",
            "CPU times: user 4.89 s, sys: 177 ms, total: 5.07 s\n",
            "Wall time: 5.08 s\n",
            "DecisionTreeClassifier : F1 value is 24.429 (1.141)\n",
            "==============\n",
            "CPU times: user 49.1 s, sys: 301 ms, total: 49.4 s\n",
            "Wall time: 55.7 s\n",
            "RandomForestClassifier : F1 value is 33.318 (2.711)\n",
            "==============\n",
            "CPU times: user 19.1 s, sys: 165 ms, total: 19.2 s\n",
            "Wall time: 19.3 s\n",
            "AdaBoostClassifier : F1 value is 34.017 (3.299)\n",
            "==============\n",
            "CPU times: user 1min 19s, sys: 199 ms, total: 1min 19s\n",
            "Wall time: 1min 20s\n",
            "GradientBoostingClassifier : F1 value is 34.752 (3.363)\n",
            "==============\n"
          ]
        }
      ],
      "source": [
        "for classifier in classifiers:\n",
        "  pipeline = build_ml_pipeline(classifier)\n",
        "  %time scores = cross_val_score(pipeline, train_validation_data_x, train_validation_data_y, cv=5, scoring='f1')\n",
        "  print(classifier.__class__.__name__, ': F1 value is %.3f (%.3f)' % (np.mean(scores)*100, np.std(scores)*100))\n",
        "  print('==============')"
      ]
    },
    {
      "cell_type": "markdown",
      "metadata": {
        "id": "r9O2Y0OZrQsW"
      },
      "source": [
        "### Part 3.2: Feature Selection"
      ]
    },
    {
      "cell_type": "code",
      "execution_count": null,
      "metadata": {
        "id": "xVEukT4ur16y",
        "colab": {
          "base_uri": "https://localhost:8080/",
          "height": 193
        },
        "outputId": "e48d03e8-8e53-4fe0-f10a-20b9c8eac5f6"
      },
      "outputs": [
        {
          "output_type": "execute_result",
          "data": {
            "text/plain": [
              "Pipeline(steps=[('fillnan', SimpleImputer(fill_value=0.0, strategy='constant')),\n",
              "                ('downSample', RandomUnderSampler()),\n",
              "                ('scaler', MinMaxScaler()),\n",
              "                ('model', GradientBoostingClassifier())])"
            ],
            "text/html": [
              "<style>#sk-container-id-1 {color: black;background-color: white;}#sk-container-id-1 pre{padding: 0;}#sk-container-id-1 div.sk-toggleable {background-color: white;}#sk-container-id-1 label.sk-toggleable__label {cursor: pointer;display: block;width: 100%;margin-bottom: 0;padding: 0.3em;box-sizing: border-box;text-align: center;}#sk-container-id-1 label.sk-toggleable__label-arrow:before {content: \"▸\";float: left;margin-right: 0.25em;color: #696969;}#sk-container-id-1 label.sk-toggleable__label-arrow:hover:before {color: black;}#sk-container-id-1 div.sk-estimator:hover label.sk-toggleable__label-arrow:before {color: black;}#sk-container-id-1 div.sk-toggleable__content {max-height: 0;max-width: 0;overflow: hidden;text-align: left;background-color: #f0f8ff;}#sk-container-id-1 div.sk-toggleable__content pre {margin: 0.2em;color: black;border-radius: 0.25em;background-color: #f0f8ff;}#sk-container-id-1 input.sk-toggleable__control:checked~div.sk-toggleable__content {max-height: 200px;max-width: 100%;overflow: auto;}#sk-container-id-1 input.sk-toggleable__control:checked~label.sk-toggleable__label-arrow:before {content: \"▾\";}#sk-container-id-1 div.sk-estimator input.sk-toggleable__control:checked~label.sk-toggleable__label {background-color: #d4ebff;}#sk-container-id-1 div.sk-label input.sk-toggleable__control:checked~label.sk-toggleable__label {background-color: #d4ebff;}#sk-container-id-1 input.sk-hidden--visually {border: 0;clip: rect(1px 1px 1px 1px);clip: rect(1px, 1px, 1px, 1px);height: 1px;margin: -1px;overflow: hidden;padding: 0;position: absolute;width: 1px;}#sk-container-id-1 div.sk-estimator {font-family: monospace;background-color: #f0f8ff;border: 1px dotted black;border-radius: 0.25em;box-sizing: border-box;margin-bottom: 0.5em;}#sk-container-id-1 div.sk-estimator:hover {background-color: #d4ebff;}#sk-container-id-1 div.sk-parallel-item::after {content: \"\";width: 100%;border-bottom: 1px solid gray;flex-grow: 1;}#sk-container-id-1 div.sk-label:hover label.sk-toggleable__label {background-color: #d4ebff;}#sk-container-id-1 div.sk-serial::before {content: \"\";position: absolute;border-left: 1px solid gray;box-sizing: border-box;top: 0;bottom: 0;left: 50%;z-index: 0;}#sk-container-id-1 div.sk-serial {display: flex;flex-direction: column;align-items: center;background-color: white;padding-right: 0.2em;padding-left: 0.2em;position: relative;}#sk-container-id-1 div.sk-item {position: relative;z-index: 1;}#sk-container-id-1 div.sk-parallel {display: flex;align-items: stretch;justify-content: center;background-color: white;position: relative;}#sk-container-id-1 div.sk-item::before, #sk-container-id-1 div.sk-parallel-item::before {content: \"\";position: absolute;border-left: 1px solid gray;box-sizing: border-box;top: 0;bottom: 0;left: 50%;z-index: -1;}#sk-container-id-1 div.sk-parallel-item {display: flex;flex-direction: column;z-index: 1;position: relative;background-color: white;}#sk-container-id-1 div.sk-parallel-item:first-child::after {align-self: flex-end;width: 50%;}#sk-container-id-1 div.sk-parallel-item:last-child::after {align-self: flex-start;width: 50%;}#sk-container-id-1 div.sk-parallel-item:only-child::after {width: 0;}#sk-container-id-1 div.sk-dashed-wrapped {border: 1px dashed gray;margin: 0 0.4em 0.5em 0.4em;box-sizing: border-box;padding-bottom: 0.4em;background-color: white;}#sk-container-id-1 div.sk-label label {font-family: monospace;font-weight: bold;display: inline-block;line-height: 1.2em;}#sk-container-id-1 div.sk-label-container {text-align: center;}#sk-container-id-1 div.sk-container {/* jupyter's `normalize.less` sets `[hidden] { display: none; }` but bootstrap.min.css set `[hidden] { display: none !important; }` so we also need the `!important` here to be able to override the default hidden behavior on the sphinx rendered scikit-learn.org. See: https://github.com/scikit-learn/scikit-learn/issues/21755 */display: inline-block !important;position: relative;}#sk-container-id-1 div.sk-text-repr-fallback {display: none;}</style><div id=\"sk-container-id-1\" class=\"sk-top-container\"><div class=\"sk-text-repr-fallback\"><pre>Pipeline(steps=[(&#x27;fillnan&#x27;, SimpleImputer(fill_value=0.0, strategy=&#x27;constant&#x27;)),\n",
              "                (&#x27;downSample&#x27;, RandomUnderSampler()),\n",
              "                (&#x27;scaler&#x27;, MinMaxScaler()),\n",
              "                (&#x27;model&#x27;, GradientBoostingClassifier())])</pre><b>In a Jupyter environment, please rerun this cell to show the HTML representation or trust the notebook. <br />On GitHub, the HTML representation is unable to render, please try loading this page with nbviewer.org.</b></div><div class=\"sk-container\" hidden><div class=\"sk-item sk-dashed-wrapped\"><div class=\"sk-label-container\"><div class=\"sk-label sk-toggleable\"><input class=\"sk-toggleable__control sk-hidden--visually\" id=\"sk-estimator-id-1\" type=\"checkbox\" ><label for=\"sk-estimator-id-1\" class=\"sk-toggleable__label sk-toggleable__label-arrow\">Pipeline</label><div class=\"sk-toggleable__content\"><pre>Pipeline(steps=[(&#x27;fillnan&#x27;, SimpleImputer(fill_value=0.0, strategy=&#x27;constant&#x27;)),\n",
              "                (&#x27;downSample&#x27;, RandomUnderSampler()),\n",
              "                (&#x27;scaler&#x27;, MinMaxScaler()),\n",
              "                (&#x27;model&#x27;, GradientBoostingClassifier())])</pre></div></div></div><div class=\"sk-serial\"><div class=\"sk-item\"><div class=\"sk-estimator sk-toggleable\"><input class=\"sk-toggleable__control sk-hidden--visually\" id=\"sk-estimator-id-2\" type=\"checkbox\" ><label for=\"sk-estimator-id-2\" class=\"sk-toggleable__label sk-toggleable__label-arrow\">SimpleImputer</label><div class=\"sk-toggleable__content\"><pre>SimpleImputer(fill_value=0.0, strategy=&#x27;constant&#x27;)</pre></div></div></div><div class=\"sk-item\"><div class=\"sk-estimator sk-toggleable\"><input class=\"sk-toggleable__control sk-hidden--visually\" id=\"sk-estimator-id-3\" type=\"checkbox\" ><label for=\"sk-estimator-id-3\" class=\"sk-toggleable__label sk-toggleable__label-arrow\">RandomUnderSampler</label><div class=\"sk-toggleable__content\"><pre>RandomUnderSampler()</pre></div></div></div><div class=\"sk-item\"><div class=\"sk-estimator sk-toggleable\"><input class=\"sk-toggleable__control sk-hidden--visually\" id=\"sk-estimator-id-4\" type=\"checkbox\" ><label for=\"sk-estimator-id-4\" class=\"sk-toggleable__label sk-toggleable__label-arrow\">MinMaxScaler</label><div class=\"sk-toggleable__content\"><pre>MinMaxScaler()</pre></div></div></div><div class=\"sk-item\"><div class=\"sk-estimator sk-toggleable\"><input class=\"sk-toggleable__control sk-hidden--visually\" id=\"sk-estimator-id-5\" type=\"checkbox\" ><label for=\"sk-estimator-id-5\" class=\"sk-toggleable__label sk-toggleable__label-arrow\">GradientBoostingClassifier</label><div class=\"sk-toggleable__content\"><pre>GradientBoostingClassifier()</pre></div></div></div></div></div></div></div>"
            ]
          },
          "metadata": {},
          "execution_count": 21
        }
      ],
      "source": [
        "# Use all data - \"train_validation_data_x\" - recompute, no hyperparameter tuning。\n",
        "# Select Gradient Boosting\n",
        "pipeline = build_ml_pipeline(GradientBoostingClassifier())\n",
        "pipeline.fit(train_validation_data_x, train_validation_data_y)"
      ]
    },
    {
      "cell_type": "code",
      "execution_count": null,
      "metadata": {
        "id": "UI0CAkrlse5f"
      },
      "outputs": [],
      "source": [
        "# Extract the feature importances from the trained model\n",
        "importances = pipeline.steps[3][1].feature_importances_\n",
        "feature_names=train_validation_data_x.columns.tolist()"
      ]
    },
    {
      "cell_type": "code",
      "execution_count": null,
      "metadata": {
        "id": "-bLQMeY7tnWF"
      },
      "outputs": [],
      "source": [
        "df_importances = pd.DataFrame(\n",
        "    {\"feature\":feature_names, \"importance\":importances}).sort_values(\"importance\", ascending=False)\n",
        "top15_features = df_importances.head(15)"
      ]
    },
    {
      "cell_type": "code",
      "execution_count": null,
      "metadata": {
        "id": "2joVufsauGEC"
      },
      "outputs": [],
      "source": [
        "# Only use the selected top 15 features in our training data.\n",
        "train_validation_data_x_select_features = train_validation_data_x[top15_features['feature']]"
      ]
    },
    {
      "cell_type": "code",
      "execution_count": null,
      "metadata": {
        "id": "ALhHyb8ttT-5",
        "colab": {
          "base_uri": "https://localhost:8080/",
          "height": 519
        },
        "outputId": "8f18e214-5a27-4238-bf6f-bf202e7e0d9e"
      },
      "outputs": [
        {
          "output_type": "execute_result",
          "data": {
            "text/plain": [
              "                                 feature  importance\n",
              "16                     user__order_count    0.285727\n",
              "6           user_product__reordered_mean    0.277687\n",
              "4             user_product__total_orders    0.238420\n",
              "0                           order_number    0.073705\n",
              "12               product__reordered_mean    0.069017\n",
              "19                  user__reordered_mean    0.018187\n",
              "9                  product__total_orders    0.007579\n",
              "3                 days_since_prior_order    0.006107\n",
              "17                   user__product_count    0.004637\n",
              "18     user__days_since_prior_order_mean    0.004095\n",
              "10       product__add_to_cart_order_mean    0.003800\n",
              "11                  product__total_users    0.002538\n",
              "15  product__days_since_prior_order_mean    0.002142\n",
              "35            product__department_id__13    0.002136\n",
              "21                        user__most_hod    0.000936"
            ],
            "text/html": [
              "\n",
              "\n",
              "  <div id=\"df-e8e41a7f-de63-462e-b630-53acf4961dcb\">\n",
              "    <div class=\"colab-df-container\">\n",
              "      <div>\n",
              "<style scoped>\n",
              "    .dataframe tbody tr th:only-of-type {\n",
              "        vertical-align: middle;\n",
              "    }\n",
              "\n",
              "    .dataframe tbody tr th {\n",
              "        vertical-align: top;\n",
              "    }\n",
              "\n",
              "    .dataframe thead th {\n",
              "        text-align: right;\n",
              "    }\n",
              "</style>\n",
              "<table border=\"1\" class=\"dataframe\">\n",
              "  <thead>\n",
              "    <tr style=\"text-align: right;\">\n",
              "      <th></th>\n",
              "      <th>feature</th>\n",
              "      <th>importance</th>\n",
              "    </tr>\n",
              "  </thead>\n",
              "  <tbody>\n",
              "    <tr>\n",
              "      <th>16</th>\n",
              "      <td>user__order_count</td>\n",
              "      <td>0.285727</td>\n",
              "    </tr>\n",
              "    <tr>\n",
              "      <th>6</th>\n",
              "      <td>user_product__reordered_mean</td>\n",
              "      <td>0.277687</td>\n",
              "    </tr>\n",
              "    <tr>\n",
              "      <th>4</th>\n",
              "      <td>user_product__total_orders</td>\n",
              "      <td>0.238420</td>\n",
              "    </tr>\n",
              "    <tr>\n",
              "      <th>0</th>\n",
              "      <td>order_number</td>\n",
              "      <td>0.073705</td>\n",
              "    </tr>\n",
              "    <tr>\n",
              "      <th>12</th>\n",
              "      <td>product__reordered_mean</td>\n",
              "      <td>0.069017</td>\n",
              "    </tr>\n",
              "    <tr>\n",
              "      <th>19</th>\n",
              "      <td>user__reordered_mean</td>\n",
              "      <td>0.018187</td>\n",
              "    </tr>\n",
              "    <tr>\n",
              "      <th>9</th>\n",
              "      <td>product__total_orders</td>\n",
              "      <td>0.007579</td>\n",
              "    </tr>\n",
              "    <tr>\n",
              "      <th>3</th>\n",
              "      <td>days_since_prior_order</td>\n",
              "      <td>0.006107</td>\n",
              "    </tr>\n",
              "    <tr>\n",
              "      <th>17</th>\n",
              "      <td>user__product_count</td>\n",
              "      <td>0.004637</td>\n",
              "    </tr>\n",
              "    <tr>\n",
              "      <th>18</th>\n",
              "      <td>user__days_since_prior_order_mean</td>\n",
              "      <td>0.004095</td>\n",
              "    </tr>\n",
              "    <tr>\n",
              "      <th>10</th>\n",
              "      <td>product__add_to_cart_order_mean</td>\n",
              "      <td>0.003800</td>\n",
              "    </tr>\n",
              "    <tr>\n",
              "      <th>11</th>\n",
              "      <td>product__total_users</td>\n",
              "      <td>0.002538</td>\n",
              "    </tr>\n",
              "    <tr>\n",
              "      <th>15</th>\n",
              "      <td>product__days_since_prior_order_mean</td>\n",
              "      <td>0.002142</td>\n",
              "    </tr>\n",
              "    <tr>\n",
              "      <th>35</th>\n",
              "      <td>product__department_id__13</td>\n",
              "      <td>0.002136</td>\n",
              "    </tr>\n",
              "    <tr>\n",
              "      <th>21</th>\n",
              "      <td>user__most_hod</td>\n",
              "      <td>0.000936</td>\n",
              "    </tr>\n",
              "  </tbody>\n",
              "</table>\n",
              "</div>\n",
              "      <button class=\"colab-df-convert\" onclick=\"convertToInteractive('df-e8e41a7f-de63-462e-b630-53acf4961dcb')\"\n",
              "              title=\"Convert this dataframe to an interactive table.\"\n",
              "              style=\"display:none;\">\n",
              "\n",
              "  <svg xmlns=\"http://www.w3.org/2000/svg\" height=\"24px\"viewBox=\"0 0 24 24\"\n",
              "       width=\"24px\">\n",
              "    <path d=\"M0 0h24v24H0V0z\" fill=\"none\"/>\n",
              "    <path d=\"M18.56 5.44l.94 2.06.94-2.06 2.06-.94-2.06-.94-.94-2.06-.94 2.06-2.06.94zm-11 1L8.5 8.5l.94-2.06 2.06-.94-2.06-.94L8.5 2.5l-.94 2.06-2.06.94zm10 10l.94 2.06.94-2.06 2.06-.94-2.06-.94-.94-2.06-.94 2.06-2.06.94z\"/><path d=\"M17.41 7.96l-1.37-1.37c-.4-.4-.92-.59-1.43-.59-.52 0-1.04.2-1.43.59L10.3 9.45l-7.72 7.72c-.78.78-.78 2.05 0 2.83L4 21.41c.39.39.9.59 1.41.59.51 0 1.02-.2 1.41-.59l7.78-7.78 2.81-2.81c.8-.78.8-2.07 0-2.86zM5.41 20L4 18.59l7.72-7.72 1.47 1.35L5.41 20z\"/>\n",
              "  </svg>\n",
              "      </button>\n",
              "\n",
              "\n",
              "\n",
              "    <div id=\"df-9aef54f5-8c32-4c44-abd0-0012692da0f9\">\n",
              "      <button class=\"colab-df-quickchart\" onclick=\"quickchart('df-9aef54f5-8c32-4c44-abd0-0012692da0f9')\"\n",
              "              title=\"Suggest charts.\"\n",
              "              style=\"display:none;\">\n",
              "\n",
              "<svg xmlns=\"http://www.w3.org/2000/svg\" height=\"24px\"viewBox=\"0 0 24 24\"\n",
              "     width=\"24px\">\n",
              "    <g>\n",
              "        <path d=\"M19 3H5c-1.1 0-2 .9-2 2v14c0 1.1.9 2 2 2h14c1.1 0 2-.9 2-2V5c0-1.1-.9-2-2-2zM9 17H7v-7h2v7zm4 0h-2V7h2v10zm4 0h-2v-4h2v4z\"/>\n",
              "    </g>\n",
              "</svg>\n",
              "      </button>\n",
              "    </div>\n",
              "\n",
              "<style>\n",
              "  .colab-df-quickchart {\n",
              "    background-color: #E8F0FE;\n",
              "    border: none;\n",
              "    border-radius: 50%;\n",
              "    cursor: pointer;\n",
              "    display: none;\n",
              "    fill: #1967D2;\n",
              "    height: 32px;\n",
              "    padding: 0 0 0 0;\n",
              "    width: 32px;\n",
              "  }\n",
              "\n",
              "  .colab-df-quickchart:hover {\n",
              "    background-color: #E2EBFA;\n",
              "    box-shadow: 0px 1px 2px rgba(60, 64, 67, 0.3), 0px 1px 3px 1px rgba(60, 64, 67, 0.15);\n",
              "    fill: #174EA6;\n",
              "  }\n",
              "\n",
              "  [theme=dark] .colab-df-quickchart {\n",
              "    background-color: #3B4455;\n",
              "    fill: #D2E3FC;\n",
              "  }\n",
              "\n",
              "  [theme=dark] .colab-df-quickchart:hover {\n",
              "    background-color: #434B5C;\n",
              "    box-shadow: 0px 1px 3px 1px rgba(0, 0, 0, 0.15);\n",
              "    filter: drop-shadow(0px 1px 2px rgba(0, 0, 0, 0.3));\n",
              "    fill: #FFFFFF;\n",
              "  }\n",
              "</style>\n",
              "\n",
              "    <script>\n",
              "      async function quickchart(key) {\n",
              "        const containerElement = document.querySelector('#' + key);\n",
              "        const charts = await google.colab.kernel.invokeFunction(\n",
              "            'suggestCharts', [key], {});\n",
              "      }\n",
              "    </script>\n",
              "\n",
              "      <script>\n",
              "\n",
              "function displayQuickchartButton(domScope) {\n",
              "  let quickchartButtonEl =\n",
              "    domScope.querySelector('#df-9aef54f5-8c32-4c44-abd0-0012692da0f9 button.colab-df-quickchart');\n",
              "  quickchartButtonEl.style.display =\n",
              "    google.colab.kernel.accessAllowed ? 'block' : 'none';\n",
              "}\n",
              "\n",
              "        displayQuickchartButton(document);\n",
              "      </script>\n",
              "      <style>\n",
              "    .colab-df-container {\n",
              "      display:flex;\n",
              "      flex-wrap:wrap;\n",
              "      gap: 12px;\n",
              "    }\n",
              "\n",
              "    .colab-df-convert {\n",
              "      background-color: #E8F0FE;\n",
              "      border: none;\n",
              "      border-radius: 50%;\n",
              "      cursor: pointer;\n",
              "      display: none;\n",
              "      fill: #1967D2;\n",
              "      height: 32px;\n",
              "      padding: 0 0 0 0;\n",
              "      width: 32px;\n",
              "    }\n",
              "\n",
              "    .colab-df-convert:hover {\n",
              "      background-color: #E2EBFA;\n",
              "      box-shadow: 0px 1px 2px rgba(60, 64, 67, 0.3), 0px 1px 3px 1px rgba(60, 64, 67, 0.15);\n",
              "      fill: #174EA6;\n",
              "    }\n",
              "\n",
              "    [theme=dark] .colab-df-convert {\n",
              "      background-color: #3B4455;\n",
              "      fill: #D2E3FC;\n",
              "    }\n",
              "\n",
              "    [theme=dark] .colab-df-convert:hover {\n",
              "      background-color: #434B5C;\n",
              "      box-shadow: 0px 1px 3px 1px rgba(0, 0, 0, 0.15);\n",
              "      filter: drop-shadow(0px 1px 2px rgba(0, 0, 0, 0.3));\n",
              "      fill: #FFFFFF;\n",
              "    }\n",
              "  </style>\n",
              "\n",
              "      <script>\n",
              "        const buttonEl =\n",
              "          document.querySelector('#df-e8e41a7f-de63-462e-b630-53acf4961dcb button.colab-df-convert');\n",
              "        buttonEl.style.display =\n",
              "          google.colab.kernel.accessAllowed ? 'block' : 'none';\n",
              "\n",
              "        async function convertToInteractive(key) {\n",
              "          const element = document.querySelector('#df-e8e41a7f-de63-462e-b630-53acf4961dcb');\n",
              "          const dataTable =\n",
              "            await google.colab.kernel.invokeFunction('convertToInteractive',\n",
              "                                                     [key], {});\n",
              "          if (!dataTable) return;\n",
              "\n",
              "          const docLinkHtml = 'Like what you see? Visit the ' +\n",
              "            '<a target=\"_blank\" href=https://colab.research.google.com/notebooks/data_table.ipynb>data table notebook</a>'\n",
              "            + ' to learn more about interactive tables.';\n",
              "          element.innerHTML = '';\n",
              "          dataTable['output_type'] = 'display_data';\n",
              "          await google.colab.output.renderOutput(dataTable, element);\n",
              "          const docLink = document.createElement('div');\n",
              "          docLink.innerHTML = docLinkHtml;\n",
              "          element.appendChild(docLink);\n",
              "        }\n",
              "      </script>\n",
              "    </div>\n",
              "  </div>\n"
            ]
          },
          "metadata": {},
          "execution_count": 28
        }
      ],
      "source": [
        "top15_features"
      ]
    },
    {
      "cell_type": "markdown",
      "metadata": {
        "id": "ABYLJtNjP6Cb"
      },
      "source": [
        "### Part 3.3: Train Neural Network Model"
      ]
    },
    {
      "cell_type": "code",
      "execution_count": null,
      "metadata": {
        "id": "O-bDtbDjJttm"
      },
      "outputs": [],
      "source": [
        "# Feed forward neural network\n",
        "def create_model():\n",
        "    model = keras.Sequential([\n",
        "        ### layer input\n",
        "        keras.layers.Dense(30, input_dim=15, activation='relu'),\n",
        "        ###  layer 1\n",
        "        keras.layers.Dense(15, activation='relu'),\n",
        "        ###  layer 2\n",
        "        keras.layers.Dense(5, activation='relu'),\n",
        "        ### layer output\n",
        "        keras.layers.Dense(units=1, activation='sigmoid')\n",
        "    ])\n",
        "    model.compile(optimizer='adam', loss='binary_crossentropy')\n",
        "    return model"
      ]
    },
    {
      "cell_type": "code",
      "execution_count": null,
      "metadata": {
        "id": "eVz6qSCGQJBJ"
      },
      "outputs": [],
      "source": [
        "# wrap the model using the function you created\n",
        "NN_model = KerasClassifier(build_fn=create_model, epochs=64, batch_size=32, verbose=0)"
      ]
    },
    {
      "cell_type": "code",
      "execution_count": null,
      "metadata": {
        "id": "xRNmgCkA9Y0h"
      },
      "outputs": [],
      "source": [
        "keras_model = create_model()"
      ]
    },
    {
      "cell_type": "code",
      "execution_count": null,
      "metadata": {
        "id": "JoHtyOct9ZQE",
        "colab": {
          "base_uri": "https://localhost:8080/"
        },
        "outputId": "68870d17-9383-4611-e4af-a401425a9750"
      },
      "outputs": [
        {
          "output_type": "stream",
          "name": "stdout",
          "text": [
            "Model: \"sequential\"\n",
            "_________________________________________________________________\n",
            " Layer (type)                Output Shape              Param #   \n",
            "=================================================================\n",
            " dense (Dense)               (None, 30)                480       \n",
            "                                                                 \n",
            " dense_1 (Dense)             (None, 15)                465       \n",
            "                                                                 \n",
            " dense_2 (Dense)             (None, 5)                 80        \n",
            "                                                                 \n",
            " dense_3 (Dense)             (None, 1)                 6         \n",
            "                                                                 \n",
            "=================================================================\n",
            "Total params: 1,031\n",
            "Trainable params: 1,031\n",
            "Non-trainable params: 0\n",
            "_________________________________________________________________\n",
            "None\n"
          ]
        }
      ],
      "source": [
        "print(keras_model.summary())"
      ]
    },
    {
      "cell_type": "code",
      "execution_count": null,
      "metadata": {
        "id": "0lPrxjveR3M3",
        "colab": {
          "base_uri": "https://localhost:8080/",
          "height": 466
        },
        "outputId": "437814f4-9f1b-4488-c16c-b593b857ea40"
      },
      "outputs": [
        {
          "output_type": "execute_result",
          "data": {
            "image/png": "[encoded data removed]",
            "text/plain": [
              "<IPython.core.display.Image object>"
            ]
          },
          "metadata": {},
          "execution_count": 34
        }
      ],
      "source": [
        "plot_model(keras_model)"
      ]
    },
    {
      "cell_type": "markdown",
      "metadata": {
        "id": "6H3jtmIrQLOQ"
      },
      "source": [
        "### Part 3.4: Model Selection with Selected Top 15 Features including Neural Network Model"
      ]
    },
    {
      "cell_type": "code",
      "execution_count": null,
      "metadata": {
        "id": "3yPD0iMPQK7U"
      },
      "outputs": [],
      "source": [
        "# Add our neural network model to our classifiers list.\n",
        "classifiers.append(NN_model)"
      ]
    },
    {
      "cell_type": "code",
      "execution_count": null,
      "metadata": {
        "id": "xpvZE8tRtASN",
        "colab": {
          "base_uri": "https://localhost:8080/"
        },
        "outputId": "2cc366e0-ff60-4390-a184-4d5d8ad4ffca"
      },
      "outputs": [
        {
          "output_type": "stream",
          "name": "stdout",
          "text": [
            "CPU times: user 1.97 s, sys: 1.1 s, total: 3.07 s\n",
            "Wall time: 1.71 s\n",
            "LogisticRegression : F1 value is 34.431 (2.414)\n",
            "==============\n",
            "CPU times: user 2.91 s, sys: 146 ms, total: 3.06 s\n",
            "Wall time: 3 s\n",
            "DecisionTreeClassifier : F1 value is 24.584 (1.248)\n",
            "==============\n",
            "CPU times: user 43.1 s, sys: 185 ms, total: 43.3 s\n",
            "Wall time: 43.4 s\n",
            "RandomForestClassifier : F1 value is 33.059 (2.675)\n",
            "==============\n",
            "CPU times: user 13 s, sys: 81.3 ms, total: 13.1 s\n",
            "Wall time: 13.6 s\n",
            "AdaBoostClassifier : F1 value is 34.248 (3.176)\n",
            "==============\n",
            "CPU times: user 51.2 s, sys: 99.4 ms, total: 51.3 s\n",
            "Wall time: 52.1 s\n",
            "GradientBoostingClassifier : F1 value is 34.674 (3.068)\n",
            "==============\n",
            "1647/1647 [==============================] - 1s 761us/step\n",
            "1647/1647 [==============================] - 2s 912us/step\n",
            "1647/1647 [==============================] - 1s 762us/step\n",
            "1647/1647 [==============================] - 2s 908us/step\n",
            "1647/1647 [==============================] - 1s 784us/step\n",
            "CPU times: user 7min 28s, sys: 22.7 s, total: 7min 51s\n",
            "Wall time: 6min 49s\n",
            "KerasClassifier : F1 value is 35.306 (0.641)\n",
            "==============\n"
          ]
        }
      ],
      "source": [
        "for classifier in classifiers:\n",
        "  pipeline = build_ml_pipeline(classifier)\n",
        "  %time scores = cross_val_score(pipeline, train_validation_data_x_select_features, train_validation_data_y, cv=5, scoring='f1')\n",
        "  print(classifier.__class__.__name__, ': F1 value is %.3f (%.3f)' % (np.mean(scores)*100, np.std(scores)*100))\n",
        "  print('==============')\n",
        "\n",
        "\n"
      ]
    },
    {
      "cell_type": "markdown",
      "metadata": {
        "id": "4vy3cZ7guiLk"
      },
      "source": [
        "# Part 4: Hyper-parameter tuning for GradientBoostingClassifier"
      ]
    },
    {
      "cell_type": "markdown",
      "metadata": {
        "id": "4UFYGTxOGEST"
      },
      "source": [
        "**Note: Due to the limitations of the computing power of the google colab platform, we only use 5% of the raw data here for hyper-paremter tuning.**"
      ]
    },
    {
      "cell_type": "code",
      "execution_count": null,
      "metadata": {
        "id": "ucQ1x7GnGHcm"
      },
      "outputs": [],
      "source": [
        "# optional\n",
        "sample_user_ids = train_validation_data.user_id.drop_duplicates().sample(frac=0.05)\n",
        "train_validation_data_sample = train_validation_data[train_validation_data.user_id.isin(sample_user_ids)]"
      ]
    },
    {
      "cell_type": "code",
      "execution_count": null,
      "metadata": {
        "id": "hwh6srjHwRDo"
      },
      "outputs": [],
      "source": [
        "train_validation_data_sample_x = train_validation_data_sample.drop(['user_id', 'product_id', 'label'],axis=1)[top15_features['feature']]\n",
        "train_validation_data_sample_y = train_validation_data_sample['label']"
      ]
    },
    {
      "cell_type": "code",
      "execution_count": null,
      "metadata": {
        "id": "bG3wXppgmJDC"
      },
      "outputs": [],
      "source": [
        "param_grid = {\n",
        "    'model__n_estimators': [100,150],\n",
        "    'model__max_depth': [4,6],\n",
        "    'model__min_samples_split': [2,4,6],\n",
        "    'model__learning_rate': [0.005, 0.01],\n",
        "}"
      ]
    },
    {
      "cell_type": "code",
      "execution_count": null,
      "metadata": {
        "colab": {
          "base_uri": "https://localhost:8080/",
          "height": 219
        },
        "id": "arLrEAdMmJTI",
        "outputId": "5ceda161-6a2c-4e6c-c3a7-e49c90c80125"
      },
      "outputs": [
        {
          "output_type": "execute_result",
          "data": {
            "text/plain": [
              "GridSearchCV(cv=5,\n",
              "             estimator=Pipeline(steps=[('fillnan',\n",
              "                                        SimpleImputer(fill_value=0.0,\n",
              "                                                      strategy='constant')),\n",
              "                                       ('downSample', RandomUnderSampler()),\n",
              "                                       ('scaler', MinMaxScaler()),\n",
              "                                       ('model',\n",
              "                                        GradientBoostingClassifier())]),\n",
              "             param_grid={'model__learning_rate': [0.005, 0.01],\n",
              "                         'model__max_depth': [4, 6],\n",
              "                         'model__min_samples_split': [2, 4, 6],\n",
              "                         'model__n_estimators': [100, 150]},\n",
              "             scoring='f1')"
            ],
            "text/html": [
              "<style>#sk-container-id-2 {color: black;background-color: white;}#sk-container-id-2 pre{padding: 0;}#sk-container-id-2 div.sk-toggleable {background-color: white;}#sk-container-id-2 label.sk-toggleable__label {cursor: pointer;display: block;width: 100%;margin-bottom: 0;padding: 0.3em;box-sizing: border-box;text-align: center;}#sk-container-id-2 label.sk-toggleable__label-arrow:before {content: \"▸\";float: left;margin-right: 0.25em;color: #696969;}#sk-container-id-2 label.sk-toggleable__label-arrow:hover:before {color: black;}#sk-container-id-2 div.sk-estimator:hover label.sk-toggleable__label-arrow:before {color: black;}#sk-container-id-2 div.sk-toggleable__content {max-height: 0;max-width: 0;overflow: hidden;text-align: left;background-color: #f0f8ff;}#sk-container-id-2 div.sk-toggleable__content pre {margin: 0.2em;color: black;border-radius: 0.25em;background-color: #f0f8ff;}#sk-container-id-2 input.sk-toggleable__control:checked~div.sk-toggleable__content {max-height: 200px;max-width: 100%;overflow: auto;}#sk-container-id-2 input.sk-toggleable__control:checked~label.sk-toggleable__label-arrow:before {content: \"▾\";}#sk-container-id-2 div.sk-estimator input.sk-toggleable__control:checked~label.sk-toggleable__label {background-color: #d4ebff;}#sk-container-id-2 div.sk-label input.sk-toggleable__control:checked~label.sk-toggleable__label {background-color: #d4ebff;}#sk-container-id-2 input.sk-hidden--visually {border: 0;clip: rect(1px 1px 1px 1px);clip: rect(1px, 1px, 1px, 1px);height: 1px;margin: -1px;overflow: hidden;padding: 0;position: absolute;width: 1px;}#sk-container-id-2 div.sk-estimator {font-family: monospace;background-color: #f0f8ff;border: 1px dotted black;border-radius: 0.25em;box-sizing: border-box;margin-bottom: 0.5em;}#sk-container-id-2 div.sk-estimator:hover {background-color: #d4ebff;}#sk-container-id-2 div.sk-parallel-item::after {content: \"\";width: 100%;border-bottom: 1px solid gray;flex-grow: 1;}#sk-container-id-2 div.sk-label:hover label.sk-toggleable__label {background-color: #d4ebff;}#sk-container-id-2 div.sk-serial::before {content: \"\";position: absolute;border-left: 1px solid gray;box-sizing: border-box;top: 0;bottom: 0;left: 50%;z-index: 0;}#sk-container-id-2 div.sk-serial {display: flex;flex-direction: column;align-items: center;background-color: white;padding-right: 0.2em;padding-left: 0.2em;position: relative;}#sk-container-id-2 div.sk-item {position: relative;z-index: 1;}#sk-container-id-2 div.sk-parallel {display: flex;align-items: stretch;justify-content: center;background-color: white;position: relative;}#sk-container-id-2 div.sk-item::before, #sk-container-id-2 div.sk-parallel-item::before {content: \"\";position: absolute;border-left: 1px solid gray;box-sizing: border-box;top: 0;bottom: 0;left: 50%;z-index: -1;}#sk-container-id-2 div.sk-parallel-item {display: flex;flex-direction: column;z-index: 1;position: relative;background-color: white;}#sk-container-id-2 div.sk-parallel-item:first-child::after {align-self: flex-end;width: 50%;}#sk-container-id-2 div.sk-parallel-item:last-child::after {align-self: flex-start;width: 50%;}#sk-container-id-2 div.sk-parallel-item:only-child::after {width: 0;}#sk-container-id-2 div.sk-dashed-wrapped {border: 1px dashed gray;margin: 0 0.4em 0.5em 0.4em;box-sizing: border-box;padding-bottom: 0.4em;background-color: white;}#sk-container-id-2 div.sk-label label {font-family: monospace;font-weight: bold;display: inline-block;line-height: 1.2em;}#sk-container-id-2 div.sk-label-container {text-align: center;}#sk-container-id-2 div.sk-container {/* jupyter's `normalize.less` sets `[hidden] { display: none; }` but bootstrap.min.css set `[hidden] { display: none !important; }` so we also need the `!important` here to be able to override the default hidden behavior on the sphinx rendered scikit-learn.org. See: https://github.com/scikit-learn/scikit-learn/issues/21755 */display: inline-block !important;position: relative;}#sk-container-id-2 div.sk-text-repr-fallback {display: none;}</style><div id=\"sk-container-id-2\" class=\"sk-top-container\"><div class=\"sk-text-repr-fallback\"><pre>GridSearchCV(cv=5,\n",
              "             estimator=Pipeline(steps=[(&#x27;fillnan&#x27;,\n",
              "                                        SimpleImputer(fill_value=0.0,\n",
              "                                                      strategy=&#x27;constant&#x27;)),\n",
              "                                       (&#x27;downSample&#x27;, RandomUnderSampler()),\n",
              "                                       (&#x27;scaler&#x27;, MinMaxScaler()),\n",
              "                                       (&#x27;model&#x27;,\n",
              "                                        GradientBoostingClassifier())]),\n",
              "             param_grid={&#x27;model__learning_rate&#x27;: [0.005, 0.01],\n",
              "                         &#x27;model__max_depth&#x27;: [4, 6],\n",
              "                         &#x27;model__min_samples_split&#x27;: [2, 4, 6],\n",
              "                         &#x27;model__n_estimators&#x27;: [100, 150]},\n",
              "             scoring=&#x27;f1&#x27;)</pre><b>In a Jupyter environment, please rerun this cell to show the HTML representation or trust the notebook. <br />On GitHub, the HTML representation is unable to render, please try loading this page with nbviewer.org.</b></div><div class=\"sk-container\" hidden><div class=\"sk-item sk-dashed-wrapped\"><div class=\"sk-label-container\"><div class=\"sk-label sk-toggleable\"><input class=\"sk-toggleable__control sk-hidden--visually\" id=\"sk-estimator-id-6\" type=\"checkbox\" ><label for=\"sk-estimator-id-6\" class=\"sk-toggleable__label sk-toggleable__label-arrow\">GridSearchCV</label><div class=\"sk-toggleable__content\"><pre>GridSearchCV(cv=5,\n",
              "             estimator=Pipeline(steps=[(&#x27;fillnan&#x27;,\n",
              "                                        SimpleImputer(fill_value=0.0,\n",
              "                                                      strategy=&#x27;constant&#x27;)),\n",
              "                                       (&#x27;downSample&#x27;, RandomUnderSampler()),\n",
              "                                       (&#x27;scaler&#x27;, MinMaxScaler()),\n",
              "                                       (&#x27;model&#x27;,\n",
              "                                        GradientBoostingClassifier())]),\n",
              "             param_grid={&#x27;model__learning_rate&#x27;: [0.005, 0.01],\n",
              "                         &#x27;model__max_depth&#x27;: [4, 6],\n",
              "                         &#x27;model__min_samples_split&#x27;: [2, 4, 6],\n",
              "                         &#x27;model__n_estimators&#x27;: [100, 150]},\n",
              "             scoring=&#x27;f1&#x27;)</pre></div></div></div><div class=\"sk-parallel\"><div class=\"sk-parallel-item\"><div class=\"sk-item\"><div class=\"sk-label-container\"><div class=\"sk-label sk-toggleable\"><input class=\"sk-toggleable__control sk-hidden--visually\" id=\"sk-estimator-id-7\" type=\"checkbox\" ><label for=\"sk-estimator-id-7\" class=\"sk-toggleable__label sk-toggleable__label-arrow\">estimator: Pipeline</label><div class=\"sk-toggleable__content\"><pre>Pipeline(steps=[(&#x27;fillnan&#x27;, SimpleImputer(fill_value=0.0, strategy=&#x27;constant&#x27;)),\n",
              "                (&#x27;downSample&#x27;, RandomUnderSampler()),\n",
              "                (&#x27;scaler&#x27;, MinMaxScaler()),\n",
              "                (&#x27;model&#x27;, GradientBoostingClassifier())])</pre></div></div></div><div class=\"sk-serial\"><div class=\"sk-item\"><div class=\"sk-serial\"><div class=\"sk-item\"><div class=\"sk-estimator sk-toggleable\"><input class=\"sk-toggleable__control sk-hidden--visually\" id=\"sk-estimator-id-8\" type=\"checkbox\" ><label for=\"sk-estimator-id-8\" class=\"sk-toggleable__label sk-toggleable__label-arrow\">SimpleImputer</label><div class=\"sk-toggleable__content\"><pre>SimpleImputer(fill_value=0.0, strategy=&#x27;constant&#x27;)</pre></div></div></div><div class=\"sk-item\"><div class=\"sk-estimator sk-toggleable\"><input class=\"sk-toggleable__control sk-hidden--visually\" id=\"sk-estimator-id-9\" type=\"checkbox\" ><label for=\"sk-estimator-id-9\" class=\"sk-toggleable__label sk-toggleable__label-arrow\">RandomUnderSampler</label><div class=\"sk-toggleable__content\"><pre>RandomUnderSampler()</pre></div></div></div><div class=\"sk-item\"><div class=\"sk-estimator sk-toggleable\"><input class=\"sk-toggleable__control sk-hidden--visually\" id=\"sk-estimator-id-10\" type=\"checkbox\" ><label for=\"sk-estimator-id-10\" class=\"sk-toggleable__label sk-toggleable__label-arrow\">MinMaxScaler</label><div class=\"sk-toggleable__content\"><pre>MinMaxScaler()</pre></div></div></div><div class=\"sk-item\"><div class=\"sk-estimator sk-toggleable\"><input class=\"sk-toggleable__control sk-hidden--visually\" id=\"sk-estimator-id-11\" type=\"checkbox\" ><label for=\"sk-estimator-id-11\" class=\"sk-toggleable__label sk-toggleable__label-arrow\">GradientBoostingClassifier</label><div class=\"sk-toggleable__content\"><pre>GradientBoostingClassifier()</pre></div></div></div></div></div></div></div></div></div></div></div></div>"
            ]
          },
          "metadata": {},
          "execution_count": 40
        }
      ],
      "source": [
        "grid = GridSearchCV(build_ml_pipeline(GradientBoostingClassifier()), cv=5, param_grid=param_grid, scoring='f1')\n",
        "grid.fit(train_validation_data_sample_x, train_validation_data_sample_y)"
      ]
    },
    {
      "cell_type": "code",
      "execution_count": null,
      "metadata": {
        "colab": {
          "base_uri": "https://localhost:8080/"
        },
        "id": "numnXp_OmMmj",
        "outputId": "0f27721e-a8fb-4424-bbf3-3e0527b799b4"
      },
      "outputs": [
        {
          "output_type": "stream",
          "name": "stdout",
          "text": [
            "Best F1 value is 0.308\n",
            "Params are {'model__learning_rate': 0.005, 'model__max_depth': 4, 'model__min_samples_split': 2, 'model__n_estimators': 150}\n"
          ]
        }
      ],
      "source": [
        "print(\"Best F1 value is %.3f\" % grid.best_score_)\n",
        "print(\"Params are %s\" % grid.best_params_)"
      ]
    },
    {
      "cell_type": "markdown",
      "metadata": {
        "id": "Nqn05xvAywxj"
      },
      "source": [
        "# Part 5: Train the final GradientBoostingClassifier"
      ]
    },
    {
      "cell_type": "markdown",
      "metadata": {
        "id": "8v8ocP33HOa-"
      },
      "source": [
        "### Train the final model with all training+validation data and the best hyper-parameters."
      ]
    },
    {
      "cell_type": "code",
      "execution_count": null,
      "metadata": {
        "colab": {
          "base_uri": "https://localhost:8080/",
          "height": 193
        },
        "id": "f8ZBUZTPtAPD",
        "outputId": "793623a7-2337-4100-a067-a8b73b338781"
      },
      "outputs": [
        {
          "output_type": "execute_result",
          "data": {
            "text/plain": [
              "Pipeline(steps=[('fillnan', SimpleImputer(fill_value=0.0, strategy='constant')),\n",
              "                ('downSample', RandomUnderSampler()),\n",
              "                ('scaler', MinMaxScaler()),\n",
              "                ('model',\n",
              "                 GradientBoostingClassifier(learning_rate=0.005, max_depth=4))])"
            ],
            "text/html": [
              "<style>#sk-container-id-3 {color: black;background-color: white;}#sk-container-id-3 pre{padding: 0;}#sk-container-id-3 div.sk-toggleable {background-color: white;}#sk-container-id-3 label.sk-toggleable__label {cursor: pointer;display: block;width: 100%;margin-bottom: 0;padding: 0.3em;box-sizing: border-box;text-align: center;}#sk-container-id-3 label.sk-toggleable__label-arrow:before {content: \"▸\";float: left;margin-right: 0.25em;color: #696969;}#sk-container-id-3 label.sk-toggleable__label-arrow:hover:before {color: black;}#sk-container-id-3 div.sk-estimator:hover label.sk-toggleable__label-arrow:before {color: black;}#sk-container-id-3 div.sk-toggleable__content {max-height: 0;max-width: 0;overflow: hidden;text-align: left;background-color: #f0f8ff;}#sk-container-id-3 div.sk-toggleable__content pre {margin: 0.2em;color: black;border-radius: 0.25em;background-color: #f0f8ff;}#sk-container-id-3 input.sk-toggleable__control:checked~div.sk-toggleable__content {max-height: 200px;max-width: 100%;overflow: auto;}#sk-container-id-3 input.sk-toggleable__control:checked~label.sk-toggleable__label-arrow:before {content: \"▾\";}#sk-container-id-3 div.sk-estimator input.sk-toggleable__control:checked~label.sk-toggleable__label {background-color: #d4ebff;}#sk-container-id-3 div.sk-label input.sk-toggleable__control:checked~label.sk-toggleable__label {background-color: #d4ebff;}#sk-container-id-3 input.sk-hidden--visually {border: 0;clip: rect(1px 1px 1px 1px);clip: rect(1px, 1px, 1px, 1px);height: 1px;margin: -1px;overflow: hidden;padding: 0;position: absolute;width: 1px;}#sk-container-id-3 div.sk-estimator {font-family: monospace;background-color: #f0f8ff;border: 1px dotted black;border-radius: 0.25em;box-sizing: border-box;margin-bottom: 0.5em;}#sk-container-id-3 div.sk-estimator:hover {background-color: #d4ebff;}#sk-container-id-3 div.sk-parallel-item::after {content: \"\";width: 100%;border-bottom: 1px solid gray;flex-grow: 1;}#sk-container-id-3 div.sk-label:hover label.sk-toggleable__label {background-color: #d4ebff;}#sk-container-id-3 div.sk-serial::before {content: \"\";position: absolute;border-left: 1px solid gray;box-sizing: border-box;top: 0;bottom: 0;left: 50%;z-index: 0;}#sk-container-id-3 div.sk-serial {display: flex;flex-direction: column;align-items: center;background-color: white;padding-right: 0.2em;padding-left: 0.2em;position: relative;}#sk-container-id-3 div.sk-item {position: relative;z-index: 1;}#sk-container-id-3 div.sk-parallel {display: flex;align-items: stretch;justify-content: center;background-color: white;position: relative;}#sk-container-id-3 div.sk-item::before, #sk-container-id-3 div.sk-parallel-item::before {content: \"\";position: absolute;border-left: 1px solid gray;box-sizing: border-box;top: 0;bottom: 0;left: 50%;z-index: -1;}#sk-container-id-3 div.sk-parallel-item {display: flex;flex-direction: column;z-index: 1;position: relative;background-color: white;}#sk-container-id-3 div.sk-parallel-item:first-child::after {align-self: flex-end;width: 50%;}#sk-container-id-3 div.sk-parallel-item:last-child::after {align-self: flex-start;width: 50%;}#sk-container-id-3 div.sk-parallel-item:only-child::after {width: 0;}#sk-container-id-3 div.sk-dashed-wrapped {border: 1px dashed gray;margin: 0 0.4em 0.5em 0.4em;box-sizing: border-box;padding-bottom: 0.4em;background-color: white;}#sk-container-id-3 div.sk-label label {font-family: monospace;font-weight: bold;display: inline-block;line-height: 1.2em;}#sk-container-id-3 div.sk-label-container {text-align: center;}#sk-container-id-3 div.sk-container {/* jupyter's `normalize.less` sets `[hidden] { display: none; }` but bootstrap.min.css set `[hidden] { display: none !important; }` so we also need the `!important` here to be able to override the default hidden behavior on the sphinx rendered scikit-learn.org. See: https://github.com/scikit-learn/scikit-learn/issues/21755 */display: inline-block !important;position: relative;}#sk-container-id-3 div.sk-text-repr-fallback {display: none;}</style><div id=\"sk-container-id-3\" class=\"sk-top-container\"><div class=\"sk-text-repr-fallback\"><pre>Pipeline(steps=[(&#x27;fillnan&#x27;, SimpleImputer(fill_value=0.0, strategy=&#x27;constant&#x27;)),\n",
              "                (&#x27;downSample&#x27;, RandomUnderSampler()),\n",
              "                (&#x27;scaler&#x27;, MinMaxScaler()),\n",
              "                (&#x27;model&#x27;,\n",
              "                 GradientBoostingClassifier(learning_rate=0.005, max_depth=4))])</pre><b>In a Jupyter environment, please rerun this cell to show the HTML representation or trust the notebook. <br />On GitHub, the HTML representation is unable to render, please try loading this page with nbviewer.org.</b></div><div class=\"sk-container\" hidden><div class=\"sk-item sk-dashed-wrapped\"><div class=\"sk-label-container\"><div class=\"sk-label sk-toggleable\"><input class=\"sk-toggleable__control sk-hidden--visually\" id=\"sk-estimator-id-12\" type=\"checkbox\" ><label for=\"sk-estimator-id-12\" class=\"sk-toggleable__label sk-toggleable__label-arrow\">Pipeline</label><div class=\"sk-toggleable__content\"><pre>Pipeline(steps=[(&#x27;fillnan&#x27;, SimpleImputer(fill_value=0.0, strategy=&#x27;constant&#x27;)),\n",
              "                (&#x27;downSample&#x27;, RandomUnderSampler()),\n",
              "                (&#x27;scaler&#x27;, MinMaxScaler()),\n",
              "                (&#x27;model&#x27;,\n",
              "                 GradientBoostingClassifier(learning_rate=0.005, max_depth=4))])</pre></div></div></div><div class=\"sk-serial\"><div class=\"sk-item\"><div class=\"sk-estimator sk-toggleable\"><input class=\"sk-toggleable__control sk-hidden--visually\" id=\"sk-estimator-id-13\" type=\"checkbox\" ><label for=\"sk-estimator-id-13\" class=\"sk-toggleable__label sk-toggleable__label-arrow\">SimpleImputer</label><div class=\"sk-toggleable__content\"><pre>SimpleImputer(fill_value=0.0, strategy=&#x27;constant&#x27;)</pre></div></div></div><div class=\"sk-item\"><div class=\"sk-estimator sk-toggleable\"><input class=\"sk-toggleable__control sk-hidden--visually\" id=\"sk-estimator-id-14\" type=\"checkbox\" ><label for=\"sk-estimator-id-14\" class=\"sk-toggleable__label sk-toggleable__label-arrow\">RandomUnderSampler</label><div class=\"sk-toggleable__content\"><pre>RandomUnderSampler()</pre></div></div></div><div class=\"sk-item\"><div class=\"sk-estimator sk-toggleable\"><input class=\"sk-toggleable__control sk-hidden--visually\" id=\"sk-estimator-id-15\" type=\"checkbox\" ><label for=\"sk-estimator-id-15\" class=\"sk-toggleable__label sk-toggleable__label-arrow\">MinMaxScaler</label><div class=\"sk-toggleable__content\"><pre>MinMaxScaler()</pre></div></div></div><div class=\"sk-item\"><div class=\"sk-estimator sk-toggleable\"><input class=\"sk-toggleable__control sk-hidden--visually\" id=\"sk-estimator-id-16\" type=\"checkbox\" ><label for=\"sk-estimator-id-16\" class=\"sk-toggleable__label sk-toggleable__label-arrow\">GradientBoostingClassifier</label><div class=\"sk-toggleable__content\"><pre>GradientBoostingClassifier(learning_rate=0.005, max_depth=4)</pre></div></div></div></div></div></div></div>"
            ]
          },
          "metadata": {},
          "execution_count": 42
        }
      ],
      "source": [
        "pipeline = build_ml_pipeline(GradientBoostingClassifier(\n",
        "    n_estimators=100,\n",
        "    min_samples_split=2,\n",
        "    max_depth=4,\n",
        "    learning_rate=0.005,\n",
        "))\n",
        "\n",
        "pipeline.fit(train_validation_data_x_select_features, train_validation_data_y)"
      ]
    },
    {
      "cell_type": "code",
      "execution_count": null,
      "metadata": {
        "colab": {
          "base_uri": "https://localhost:8080/",
          "height": 519
        },
        "id": "xjxglMXyrrmH",
        "outputId": "49d82cbf-ba8d-476f-9b37-f399c08b3722"
      },
      "outputs": [
        {
          "output_type": "execute_result",
          "data": {
            "text/plain": [
              "                                 feature  importance\n",
              "2             user_product__total_orders    0.360553\n",
              "0                      user__order_count    0.295372\n",
              "1           user_product__reordered_mean    0.287069\n",
              "4                product__reordered_mean    0.029280\n",
              "3                           order_number    0.026980\n",
              "6                  product__total_orders    0.000739\n",
              "9      user__days_since_prior_order_mean    0.000008\n",
              "5                   user__reordered_mean    0.000000\n",
              "7                 days_since_prior_order    0.000000\n",
              "8                    user__product_count    0.000000\n",
              "10       product__add_to_cart_order_mean    0.000000\n",
              "11                  product__total_users    0.000000\n",
              "12  product__days_since_prior_order_mean    0.000000\n",
              "13            product__department_id__13    0.000000\n",
              "14                        user__most_hod    0.000000"
            ],
            "text/html": [
              "\n",
              "\n",
              "  <div id=\"df-c9d7f5b8-29f8-44f8-b560-739d400d31b4\">\n",
              "    <div class=\"colab-df-container\">\n",
              "      <div>\n",
              "<style scoped>\n",
              "    .dataframe tbody tr th:only-of-type {\n",
              "        vertical-align: middle;\n",
              "    }\n",
              "\n",
              "    .dataframe tbody tr th {\n",
              "        vertical-align: top;\n",
              "    }\n",
              "\n",
              "    .dataframe thead th {\n",
              "        text-align: right;\n",
              "    }\n",
              "</style>\n",
              "<table border=\"1\" class=\"dataframe\">\n",
              "  <thead>\n",
              "    <tr style=\"text-align: right;\">\n",
              "      <th></th>\n",
              "      <th>feature</th>\n",
              "      <th>importance</th>\n",
              "    </tr>\n",
              "  </thead>\n",
              "  <tbody>\n",
              "    <tr>\n",
              "      <th>2</th>\n",
              "      <td>user_product__total_orders</td>\n",
              "      <td>0.360553</td>\n",
              "    </tr>\n",
              "    <tr>\n",
              "      <th>0</th>\n",
              "      <td>user__order_count</td>\n",
              "      <td>0.295372</td>\n",
              "    </tr>\n",
              "    <tr>\n",
              "      <th>1</th>\n",
              "      <td>user_product__reordered_mean</td>\n",
              "      <td>0.287069</td>\n",
              "    </tr>\n",
              "    <tr>\n",
              "      <th>4</th>\n",
              "      <td>product__reordered_mean</td>\n",
              "      <td>0.029280</td>\n",
              "    </tr>\n",
              "    <tr>\n",
              "      <th>3</th>\n",
              "      <td>order_number</td>\n",
              "      <td>0.026980</td>\n",
              "    </tr>\n",
              "    <tr>\n",
              "      <th>6</th>\n",
              "      <td>product__total_orders</td>\n",
              "      <td>0.000739</td>\n",
              "    </tr>\n",
              "    <tr>\n",
              "      <th>9</th>\n",
              "      <td>user__days_since_prior_order_mean</td>\n",
              "      <td>0.000008</td>\n",
              "    </tr>\n",
              "    <tr>\n",
              "      <th>5</th>\n",
              "      <td>user__reordered_mean</td>\n",
              "      <td>0.000000</td>\n",
              "    </tr>\n",
              "    <tr>\n",
              "      <th>7</th>\n",
              "      <td>days_since_prior_order</td>\n",
              "      <td>0.000000</td>\n",
              "    </tr>\n",
              "    <tr>\n",
              "      <th>8</th>\n",
              "      <td>user__product_count</td>\n",
              "      <td>0.000000</td>\n",
              "    </tr>\n",
              "    <tr>\n",
              "      <th>10</th>\n",
              "      <td>product__add_to_cart_order_mean</td>\n",
              "      <td>0.000000</td>\n",
              "    </tr>\n",
              "    <tr>\n",
              "      <th>11</th>\n",
              "      <td>product__total_users</td>\n",
              "      <td>0.000000</td>\n",
              "    </tr>\n",
              "    <tr>\n",
              "      <th>12</th>\n",
              "      <td>product__days_since_prior_order_mean</td>\n",
              "      <td>0.000000</td>\n",
              "    </tr>\n",
              "    <tr>\n",
              "      <th>13</th>\n",
              "      <td>product__department_id__13</td>\n",
              "      <td>0.000000</td>\n",
              "    </tr>\n",
              "    <tr>\n",
              "      <th>14</th>\n",
              "      <td>user__most_hod</td>\n",
              "      <td>0.000000</td>\n",
              "    </tr>\n",
              "  </tbody>\n",
              "</table>\n",
              "</div>\n",
              "      <button class=\"colab-df-convert\" onclick=\"convertToInteractive('df-c9d7f5b8-29f8-44f8-b560-739d400d31b4')\"\n",
              "              title=\"Convert this dataframe to an interactive table.\"\n",
              "              style=\"display:none;\">\n",
              "\n",
              "  <svg xmlns=\"http://www.w3.org/2000/svg\" height=\"24px\"viewBox=\"0 0 24 24\"\n",
              "       width=\"24px\">\n",
              "    <path d=\"M0 0h24v24H0V0z\" fill=\"none\"/>\n",
              "    <path d=\"M18.56 5.44l.94 2.06.94-2.06 2.06-.94-2.06-.94-.94-2.06-.94 2.06-2.06.94zm-11 1L8.5 8.5l.94-2.06 2.06-.94-2.06-.94L8.5 2.5l-.94 2.06-2.06.94zm10 10l.94 2.06.94-2.06 2.06-.94-2.06-.94-.94-2.06-.94 2.06-2.06.94z\"/><path d=\"M17.41 7.96l-1.37-1.37c-.4-.4-.92-.59-1.43-.59-.52 0-1.04.2-1.43.59L10.3 9.45l-7.72 7.72c-.78.78-.78 2.05 0 2.83L4 21.41c.39.39.9.59 1.41.59.51 0 1.02-.2 1.41-.59l7.78-7.78 2.81-2.81c.8-.78.8-2.07 0-2.86zM5.41 20L4 18.59l7.72-7.72 1.47 1.35L5.41 20z\"/>\n",
              "  </svg>\n",
              "      </button>\n",
              "\n",
              "\n",
              "\n",
              "    <div id=\"df-d201f8d9-0a87-4554-a467-5a188e954e78\">\n",
              "      <button class=\"colab-df-quickchart\" onclick=\"quickchart('df-d201f8d9-0a87-4554-a467-5a188e954e78')\"\n",
              "              title=\"Suggest charts.\"\n",
              "              style=\"display:none;\">\n",
              "\n",
              "<svg xmlns=\"http://www.w3.org/2000/svg\" height=\"24px\"viewBox=\"0 0 24 24\"\n",
              "     width=\"24px\">\n",
              "    <g>\n",
              "        <path d=\"M19 3H5c-1.1 0-2 .9-2 2v14c0 1.1.9 2 2 2h14c1.1 0 2-.9 2-2V5c0-1.1-.9-2-2-2zM9 17H7v-7h2v7zm4 0h-2V7h2v10zm4 0h-2v-4h2v4z\"/>\n",
              "    </g>\n",
              "</svg>\n",
              "      </button>\n",
              "    </div>\n",
              "\n",
              "<style>\n",
              "  .colab-df-quickchart {\n",
              "    background-color: #E8F0FE;\n",
              "    border: none;\n",
              "    border-radius: 50%;\n",
              "    cursor: pointer;\n",
              "    display: none;\n",
              "    fill: #1967D2;\n",
              "    height: 32px;\n",
              "    padding: 0 0 0 0;\n",
              "    width: 32px;\n",
              "  }\n",
              "\n",
              "  .colab-df-quickchart:hover {\n",
              "    background-color: #E2EBFA;\n",
              "    box-shadow: 0px 1px 2px rgba(60, 64, 67, 0.3), 0px 1px 3px 1px rgba(60, 64, 67, 0.15);\n",
              "    fill: #174EA6;\n",
              "  }\n",
              "\n",
              "  [theme=dark] .colab-df-quickchart {\n",
              "    background-color: #3B4455;\n",
              "    fill: #D2E3FC;\n",
              "  }\n",
              "\n",
              "  [theme=dark] .colab-df-quickchart:hover {\n",
              "    background-color: #434B5C;\n",
              "    box-shadow: 0px 1px 3px 1px rgba(0, 0, 0, 0.15);\n",
              "    filter: drop-shadow(0px 1px 2px rgba(0, 0, 0, 0.3));\n",
              "    fill: #FFFFFF;\n",
              "  }\n",
              "</style>\n",
              "\n",
              "    <script>\n",
              "      async function quickchart(key) {\n",
              "        const containerElement = document.querySelector('#' + key);\n",
              "        const charts = await google.colab.kernel.invokeFunction(\n",
              "            'suggestCharts', [key], {});\n",
              "      }\n",
              "    </script>\n",
              "\n",
              "      <script>\n",
              "\n",
              "function displayQuickchartButton(domScope) {\n",
              "  let quickchartButtonEl =\n",
              "    domScope.querySelector('#df-d201f8d9-0a87-4554-a467-5a188e954e78 button.colab-df-quickchart');\n",
              "  quickchartButtonEl.style.display =\n",
              "    google.colab.kernel.accessAllowed ? 'block' : 'none';\n",
              "}\n",
              "\n",
              "        displayQuickchartButton(document);\n",
              "      </script>\n",
              "      <style>\n",
              "    .colab-df-container {\n",
              "      display:flex;\n",
              "      flex-wrap:wrap;\n",
              "      gap: 12px;\n",
              "    }\n",
              "\n",
              "    .colab-df-convert {\n",
              "      background-color: #E8F0FE;\n",
              "      border: none;\n",
              "      border-radius: 50%;\n",
              "      cursor: pointer;\n",
              "      display: none;\n",
              "      fill: #1967D2;\n",
              "      height: 32px;\n",
              "      padding: 0 0 0 0;\n",
              "      width: 32px;\n",
              "    }\n",
              "\n",
              "    .colab-df-convert:hover {\n",
              "      background-color: #E2EBFA;\n",
              "      box-shadow: 0px 1px 2px rgba(60, 64, 67, 0.3), 0px 1px 3px 1px rgba(60, 64, 67, 0.15);\n",
              "      fill: #174EA6;\n",
              "    }\n",
              "\n",
              "    [theme=dark] .colab-df-convert {\n",
              "      background-color: #3B4455;\n",
              "      fill: #D2E3FC;\n",
              "    }\n",
              "\n",
              "    [theme=dark] .colab-df-convert:hover {\n",
              "      background-color: #434B5C;\n",
              "      box-shadow: 0px 1px 3px 1px rgba(0, 0, 0, 0.15);\n",
              "      filter: drop-shadow(0px 1px 2px rgba(0, 0, 0, 0.3));\n",
              "      fill: #FFFFFF;\n",
              "    }\n",
              "  </style>\n",
              "\n",
              "      <script>\n",
              "        const buttonEl =\n",
              "          document.querySelector('#df-c9d7f5b8-29f8-44f8-b560-739d400d31b4 button.colab-df-convert');\n",
              "        buttonEl.style.display =\n",
              "          google.colab.kernel.accessAllowed ? 'block' : 'none';\n",
              "\n",
              "        async function convertToInteractive(key) {\n",
              "          const element = document.querySelector('#df-c9d7f5b8-29f8-44f8-b560-739d400d31b4');\n",
              "          const dataTable =\n",
              "            await google.colab.kernel.invokeFunction('convertToInteractive',\n",
              "                                                     [key], {});\n",
              "          if (!dataTable) return;\n",
              "\n",
              "          const docLinkHtml = 'Like what you see? Visit the ' +\n",
              "            '<a target=\"_blank\" href=https://colab.research.google.com/notebooks/data_table.ipynb>data table notebook</a>'\n",
              "            + ' to learn more about interactive tables.';\n",
              "          element.innerHTML = '';\n",
              "          dataTable['output_type'] = 'display_data';\n",
              "          await google.colab.output.renderOutput(dataTable, element);\n",
              "          const docLink = document.createElement('div');\n",
              "          docLink.innerHTML = docLinkHtml;\n",
              "          element.appendChild(docLink);\n",
              "        }\n",
              "      </script>\n",
              "    </div>\n",
              "  </div>\n"
            ]
          },
          "metadata": {},
          "execution_count": 43
        }
      ],
      "source": [
        "importances = pipeline.steps[3][1].feature_importances_\n",
        "feature_names=train_validation_data_x_select_features.columns.tolist()\n",
        "df_importances = pd.DataFrame(\n",
        "    {\"feature\":feature_names, \"importance\":importances}).sort_values(\"importance\", ascending=False)\n",
        "df_importances.head(15)"
      ]
    },
    {
      "cell_type": "markdown",
      "metadata": {
        "id": "mw9sVzvD05tW"
      },
      "source": [
        "# Part 6: Model Evaluation"
      ]
    },
    {
      "cell_type": "markdown",
      "metadata": {
        "id": "r4jPG0FjH_n6"
      },
      "source": [
        "### Part 6.1: Predict product reorder on Test Data"
      ]
    },
    {
      "cell_type": "code",
      "execution_count": null,
      "metadata": {
        "id": "zpbLdh5B1cVi"
      },
      "outputs": [],
      "source": [
        "test_data_x_selected_features = test_data.drop(['user_id', 'product_id', 'label'],axis=1)[top15_features['feature']]\n",
        "test_data_y = test_data['label']"
      ]
    },
    {
      "cell_type": "code",
      "execution_count": null,
      "metadata": {
        "id": "rizYT4wLrrj9"
      },
      "outputs": [],
      "source": [
        "predict_y = pipeline.predict(test_data_x_selected_features)"
      ]
    },
    {
      "cell_type": "code",
      "execution_count": null,
      "metadata": {
        "id": "nKmMW2FO6uA2"
      },
      "outputs": [],
      "source": [
        "df_output = pd.DataFrame(\n",
        "    {\"user_id\":test_data.user_id, \"product_id\":test_data.product_id, \"predict\":predict_y, \"label\":test_data.label})"
      ]
    },
    {
      "cell_type": "code",
      "execution_count": null,
      "metadata": {
        "colab": {
          "base_uri": "https://localhost:8080/",
          "height": 206
        },
        "id": "CfOrPEA77eMg",
        "outputId": "18e92065-3f52-4ceb-c471-7c0c929b151d"
      },
      "outputs": [
        {
          "output_type": "execute_result",
          "data": {
            "text/plain": [
              "      user_id  product_id  predict  label\n",
              "1328   135743       30597        0      0\n",
              "1329   135743       29471        0      0\n",
              "1330   135743       44632        0      1\n",
              "1331   135743       21709        1      1\n",
              "1332   135743       20682        0      0"
            ],
            "text/html": [
              "\n",
              "\n",
              "  <div id=\"df-b36b58ad-9fd3-43b8-ac31-908c19babcd3\">\n",
              "    <div class=\"colab-df-container\">\n",
              "      <div>\n",
              "<style scoped>\n",
              "    .dataframe tbody tr th:only-of-type {\n",
              "        vertical-align: middle;\n",
              "    }\n",
              "\n",
              "    .dataframe tbody tr th {\n",
              "        vertical-align: top;\n",
              "    }\n",
              "\n",
              "    .dataframe thead th {\n",
              "        text-align: right;\n",
              "    }\n",
              "</style>\n",
              "<table border=\"1\" class=\"dataframe\">\n",
              "  <thead>\n",
              "    <tr style=\"text-align: right;\">\n",
              "      <th></th>\n",
              "      <th>user_id</th>\n",
              "      <th>product_id</th>\n",
              "      <th>predict</th>\n",
              "      <th>label</th>\n",
              "    </tr>\n",
              "  </thead>\n",
              "  <tbody>\n",
              "    <tr>\n",
              "      <th>1328</th>\n",
              "      <td>135743</td>\n",
              "      <td>30597</td>\n",
              "      <td>0</td>\n",
              "      <td>0</td>\n",
              "    </tr>\n",
              "    <tr>\n",
              "      <th>1329</th>\n",
              "      <td>135743</td>\n",
              "      <td>29471</td>\n",
              "      <td>0</td>\n",
              "      <td>0</td>\n",
              "    </tr>\n",
              "    <tr>\n",
              "      <th>1330</th>\n",
              "      <td>135743</td>\n",
              "      <td>44632</td>\n",
              "      <td>0</td>\n",
              "      <td>1</td>\n",
              "    </tr>\n",
              "    <tr>\n",
              "      <th>1331</th>\n",
              "      <td>135743</td>\n",
              "      <td>21709</td>\n",
              "      <td>1</td>\n",
              "      <td>1</td>\n",
              "    </tr>\n",
              "    <tr>\n",
              "      <th>1332</th>\n",
              "      <td>135743</td>\n",
              "      <td>20682</td>\n",
              "      <td>0</td>\n",
              "      <td>0</td>\n",
              "    </tr>\n",
              "  </tbody>\n",
              "</table>\n",
              "</div>\n",
              "      <button class=\"colab-df-convert\" onclick=\"convertToInteractive('df-b36b58ad-9fd3-43b8-ac31-908c19babcd3')\"\n",
              "              title=\"Convert this dataframe to an interactive table.\"\n",
              "              style=\"display:none;\">\n",
              "\n",
              "  <svg xmlns=\"http://www.w3.org/2000/svg\" height=\"24px\"viewBox=\"0 0 24 24\"\n",
              "       width=\"24px\">\n",
              "    <path d=\"M0 0h24v24H0V0z\" fill=\"none\"/>\n",
              "    <path d=\"M18.56 5.44l.94 2.06.94-2.06 2.06-.94-2.06-.94-.94-2.06-.94 2.06-2.06.94zm-11 1L8.5 8.5l.94-2.06 2.06-.94-2.06-.94L8.5 2.5l-.94 2.06-2.06.94zm10 10l.94 2.06.94-2.06 2.06-.94-2.06-.94-.94-2.06-.94 2.06-2.06.94z\"/><path d=\"M17.41 7.96l-1.37-1.37c-.4-.4-.92-.59-1.43-.59-.52 0-1.04.2-1.43.59L10.3 9.45l-7.72 7.72c-.78.78-.78 2.05 0 2.83L4 21.41c.39.39.9.59 1.41.59.51 0 1.02-.2 1.41-.59l7.78-7.78 2.81-2.81c.8-.78.8-2.07 0-2.86zM5.41 20L4 18.59l7.72-7.72 1.47 1.35L5.41 20z\"/>\n",
              "  </svg>\n",
              "      </button>\n",
              "\n",
              "\n",
              "\n",
              "    <div id=\"df-9e707399-c4de-4a19-b75a-022e36c7e578\">\n",
              "      <button class=\"colab-df-quickchart\" onclick=\"quickchart('df-9e707399-c4de-4a19-b75a-022e36c7e578')\"\n",
              "              title=\"Suggest charts.\"\n",
              "              style=\"display:none;\">\n",
              "\n",
              "<svg xmlns=\"http://www.w3.org/2000/svg\" height=\"24px\"viewBox=\"0 0 24 24\"\n",
              "     width=\"24px\">\n",
              "    <g>\n",
              "        <path d=\"M19 3H5c-1.1 0-2 .9-2 2v14c0 1.1.9 2 2 2h14c1.1 0 2-.9 2-2V5c0-1.1-.9-2-2-2zM9 17H7v-7h2v7zm4 0h-2V7h2v10zm4 0h-2v-4h2v4z\"/>\n",
              "    </g>\n",
              "</svg>\n",
              "      </button>\n",
              "    </div>\n",
              "\n",
              "<style>\n",
              "  .colab-df-quickchart {\n",
              "    background-color: #E8F0FE;\n",
              "    border: none;\n",
              "    border-radius: 50%;\n",
              "    cursor: pointer;\n",
              "    display: none;\n",
              "    fill: #1967D2;\n",
              "    height: 32px;\n",
              "    padding: 0 0 0 0;\n",
              "    width: 32px;\n",
              "  }\n",
              "\n",
              "  .colab-df-quickchart:hover {\n",
              "    background-color: #E2EBFA;\n",
              "    box-shadow: 0px 1px 2px rgba(60, 64, 67, 0.3), 0px 1px 3px 1px rgba(60, 64, 67, 0.15);\n",
              "    fill: #174EA6;\n",
              "  }\n",
              "\n",
              "  [theme=dark] .colab-df-quickchart {\n",
              "    background-color: #3B4455;\n",
              "    fill: #D2E3FC;\n",
              "  }\n",
              "\n",
              "  [theme=dark] .colab-df-quickchart:hover {\n",
              "    background-color: #434B5C;\n",
              "    box-shadow: 0px 1px 3px 1px rgba(0, 0, 0, 0.15);\n",
              "    filter: drop-shadow(0px 1px 2px rgba(0, 0, 0, 0.3));\n",
              "    fill: #FFFFFF;\n",
              "  }\n",
              "</style>\n",
              "\n",
              "    <script>\n",
              "      async function quickchart(key) {\n",
              "        const containerElement = document.querySelector('#' + key);\n",
              "        const charts = await google.colab.kernel.invokeFunction(\n",
              "            'suggestCharts', [key], {});\n",
              "      }\n",
              "    </script>\n",
              "\n",
              "      <script>\n",
              "\n",
              "function displayQuickchartButton(domScope) {\n",
              "  let quickchartButtonEl =\n",
              "    domScope.querySelector('#df-9e707399-c4de-4a19-b75a-022e36c7e578 button.colab-df-quickchart');\n",
              "  quickchartButtonEl.style.display =\n",
              "    google.colab.kernel.accessAllowed ? 'block' : 'none';\n",
              "}\n",
              "\n",
              "        displayQuickchartButton(document);\n",
              "      </script>\n",
              "      <style>\n",
              "    .colab-df-container {\n",
              "      display:flex;\n",
              "      flex-wrap:wrap;\n",
              "      gap: 12px;\n",
              "    }\n",
              "\n",
              "    .colab-df-convert {\n",
              "      background-color: #E8F0FE;\n",
              "      border: none;\n",
              "      border-radius: 50%;\n",
              "      cursor: pointer;\n",
              "      display: none;\n",
              "      fill: #1967D2;\n",
              "      height: 32px;\n",
              "      padding: 0 0 0 0;\n",
              "      width: 32px;\n",
              "    }\n",
              "\n",
              "    .colab-df-convert:hover {\n",
              "      background-color: #E2EBFA;\n",
              "      box-shadow: 0px 1px 2px rgba(60, 64, 67, 0.3), 0px 1px 3px 1px rgba(60, 64, 67, 0.15);\n",
              "      fill: #174EA6;\n",
              "    }\n",
              "\n",
              "    [theme=dark] .colab-df-convert {\n",
              "      background-color: #3B4455;\n",
              "      fill: #D2E3FC;\n",
              "    }\n",
              "\n",
              "    [theme=dark] .colab-df-convert:hover {\n",
              "      background-color: #434B5C;\n",
              "      box-shadow: 0px 1px 3px 1px rgba(0, 0, 0, 0.15);\n",
              "      filter: drop-shadow(0px 1px 2px rgba(0, 0, 0, 0.3));\n",
              "      fill: #FFFFFF;\n",
              "    }\n",
              "  </style>\n",
              "\n",
              "      <script>\n",
              "        const buttonEl =\n",
              "          document.querySelector('#df-b36b58ad-9fd3-43b8-ac31-908c19babcd3 button.colab-df-convert');\n",
              "        buttonEl.style.display =\n",
              "          google.colab.kernel.accessAllowed ? 'block' : 'none';\n",
              "\n",
              "        async function convertToInteractive(key) {\n",
              "          const element = document.querySelector('#df-b36b58ad-9fd3-43b8-ac31-908c19babcd3');\n",
              "          const dataTable =\n",
              "            await google.colab.kernel.invokeFunction('convertToInteractive',\n",
              "                                                     [key], {});\n",
              "          if (!dataTable) return;\n",
              "\n",
              "          const docLinkHtml = 'Like what you see? Visit the ' +\n",
              "            '<a target=\"_blank\" href=https://colab.research.google.com/notebooks/data_table.ipynb>data table notebook</a>'\n",
              "            + ' to learn more about interactive tables.';\n",
              "          element.innerHTML = '';\n",
              "          dataTable['output_type'] = 'display_data';\n",
              "          await google.colab.output.renderOutput(dataTable, element);\n",
              "          const docLink = document.createElement('div');\n",
              "          docLink.innerHTML = docLinkHtml;\n",
              "          element.appendChild(docLink);\n",
              "        }\n",
              "      </script>\n",
              "    </div>\n",
              "  </div>\n"
            ]
          },
          "metadata": {},
          "execution_count": 47
        }
      ],
      "source": [
        "df_output.head()"
      ]
    },
    {
      "cell_type": "code",
      "execution_count": null,
      "metadata": {
        "id": "4L6ljHzwjbvH"
      },
      "outputs": [],
      "source": [
        "predict_y_prob = pipeline.predict_proba(test_data_x_selected_features)[:,1]"
      ]
    },
    {
      "cell_type": "markdown",
      "metadata": {
        "id": "AFk7X0L6IH5M"
      },
      "source": [
        "### Part 6.2: Analyze classification result"
      ]
    },
    {
      "cell_type": "code",
      "execution_count": null,
      "metadata": {
        "colab": {
          "base_uri": "https://localhost:8080/",
          "height": 467
        },
        "id": "TCUtHi3BrraA",
        "outputId": "95f355e3-0615-4ed3-f4f4-4875dc5677e0"
      },
      "outputs": [
        {
          "output_type": "execute_result",
          "data": {
            "text/plain": [
              "<sklearn.metrics._plot.confusion_matrix.ConfusionMatrixDisplay at 0x7a8d47563f10>"
            ]
          },
          "metadata": {},
          "execution_count": 52
        },
        {
          "output_type": "display_data",
          "data": {
            "text/plain": [
              "<Figure size 640x480 with 2 Axes>"
            ],
            "image/png": "[encoded data removed]"
          },
          "metadata": {}
        }
      ],
      "source": [
        "ConfusionMatrixDisplay.from_estimator(pipeline, test_data_x_selected_features, test_data_y,\n",
        "                      display_labels=[\"not reorder\",\"reorder\"],cmap=plt.cm.Blues)"
      ]
    },
    {
      "cell_type": "code",
      "execution_count": null,
      "metadata": {
        "id": "NDjIATvirrUk"
      },
      "outputs": [],
      "source": [
        "acc = accuracy_score(test_data_y, predict_y)\n",
        "f1 = f1_score(test_data_y, predict_y)\n",
        "pre = precision_score(test_data_y, predict_y)\n",
        "rec = recall_score(test_data_y, predict_y)\n",
        "auc = roc_auc_score(test_data_y, predict_y_prob)"
      ]
    },
    {
      "cell_type": "code",
      "execution_count": null,
      "metadata": {
        "colab": {
          "base_uri": "https://localhost:8080/"
        },
        "id": "LxOiEL5d4pFz",
        "outputId": "b851257d-cb6c-4322-96a6-409b29b17bbf"
      },
      "outputs": [
        {
          "output_type": "stream",
          "name": "stdout",
          "text": [
            "Model evaluation result on test data: \n",
            "F1 Score : 35.5600%\n",
            "ROC AUC : 79.9102%\n",
            "Accuracy : 74.7386%\n",
            "Precision : 23.9255%\n",
            "Recall : 69.2204%\n"
          ]
        }
      ],
      "source": [
        "print(\"Model evaluation result on test data: \")\n",
        "print(\"F1 Score : {:.4%}\".format(f1))\n",
        "print(\"ROC AUC : {:.4%}\".format(auc))\n",
        "print(\"Accuracy : {:.4%}\".format(acc))\n",
        "print(\"Precision : {:.4%}\".format(pre))\n",
        "print(\"Recall : {:.4%}\".format(rec))"
      ]
    },
    {
      "cell_type": "markdown",
      "source": [
        "There is room for improvement in terms of precision and recall, as they are relatively low compared to the other metrics. Depending on the specific requirements and goals of the recommendation system, these results may need to be further analyzed and optimized to achieve the desired level of performance."
      ],
      "metadata": {
        "id": "tzPxf_TAgg9F"
      }
    }
  ],
  "metadata": {
    "colab": {
      "provenance": [],
      "include_colab_link": true
    },
    "kernelspec": {
      "display_name": "Python 3",
      "name": "python3"
    }
  },
  "nbformat": 4,
  "nbformat_minor": 0
}